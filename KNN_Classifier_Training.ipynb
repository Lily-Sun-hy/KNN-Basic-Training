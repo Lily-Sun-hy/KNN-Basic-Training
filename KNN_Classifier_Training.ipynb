{
  "nbformat": 4,
  "nbformat_minor": 0,
  "metadata": {
    "kernelspec": {
      "display_name": "Python 3",
      "language": "python",
      "name": "python3"
    },
    "language_info": {
      "codemirror_mode": {
        "name": "ipython",
        "version": 3
      },
      "file_extension": ".py",
      "mimetype": "text/x-python",
      "name": "python",
      "nbconvert_exporter": "python",
      "pygments_lexer": "ipython3",
      "version": "3.7.4"
    },
    "colab": {
      "name": "APS1070_Haoying_Sun_1002112108_Project1.ipynb",
      "provenance": [],
      "collapsed_sections": []
    }
  },
  "cells": [
    {
      "cell_type": "markdown",
      "metadata": {
        "id": "08owH-AVyZCX"
      },
      "source": [
        "# APS1070\n",
        "#### Basic Principles and Models - Project 1\n",
        "**Deadline: Sep 27, 23:59 - 14 points**"
      ]
    },
    {
      "cell_type": "markdown",
      "metadata": {
        "id": "fRZ3wBoe398S"
      },
      "source": [
        "**Academic Integrity**\n",
        "\n",
        "This project is individual - it is to be completed on your own. If you have questions, please post your query in the APS1070 Piazza Q&A forums (the answer might be useful to others!).\n",
        "\n",
        "Do not share your code with others, or post your work online. Do not submit code that you have not written yourself. Students suspected of plagiarism on a project, midterm or exam will be referred to the department for formal discipline for breaches of the Student Code of Conduct."
      ]
    },
    {
      "cell_type": "markdown",
      "metadata": {
        "id": "qonbueFGyemb"
      },
      "source": [
        "\n",
        "\n",
        "\n",
        "\n",
        "\n",
        "**Name:** **Haoying Sun**\n",
        "\n",
        "**Student ID:** **1002112108**"
      ]
    },
    {
      "cell_type": "markdown",
      "metadata": {
        "id": "Dykrw3cyy7PF"
      },
      "source": [
        "##**Marking Scheme:**\n",
        "\n",
        "This project is worth **14 marks** of your final grade.\n",
        "\n",
        "Draw a plot or table where necessary to summarize your findings. \n",
        "\n",
        "**Practice Vectorized coding**: If you need to write a loop in your solution, think about how you can implement the same functionality with vectorized operations. Try to avoid loops as much as possible (in some cases, loops are inevitable).\n",
        "\n"
      ]
    },
    {
      "cell_type": "markdown",
      "metadata": {
        "id": "yYlo7mIXyZFe"
      },
      "source": [
        "# Project 1 [14 Marks] \n",
        "Let's apply the tools we have learned in the tutorial to a new dataset.\n",
        "\n",
        "We're going to work with a breast cancer dataset. Download it using the cell below:"
      ]
    },
    {
      "cell_type": "code",
      "metadata": {
        "id": "YFo8KVcryZFe"
      },
      "source": [
        "from sklearn.datasets import load_breast_cancer\n",
        "dataset = load_breast_cancer()"
      ],
      "execution_count": null,
      "outputs": []
    },
    {
      "cell_type": "markdown",
      "metadata": {
        "id": "ZW9oYGn1865d"
      },
      "source": [
        "# ***NOTE: All discussion questions are answered in italics.***\n",
        "\n"
      ]
    },
    {
      "cell_type": "markdown",
      "metadata": {
        "id": "gOGmwyQNyZFh"
      },
      "source": [
        "## Part 1: Getting started [4 Marks]\n",
        "First off, take a look at the `data`, `target` and `feature_names` entries in the `dataset` dictionary. They contain the information we'll be working with here. Then, create a Pandas DataFrame called `df` containing the data and the targets, with the feature names as column headings. If you need help, see [here](https://pandas.pydata.org/pandas-docs/stable/reference/api/pandas.DataFrame.html) for more details on how to achieve this. **[1]**\n",
        "* **How many features do we have in this dataset?** \n",
        "\n",
        "*-> There are 30 features (columns) in this dataset, which is everything in \"feature_names\".*\n",
        "\n",
        "* **What are the target classes?** \n",
        "\n",
        "*-> The target data is either 0 or 1.*\n",
        "\n",
        "* ***What do these target classes signify? ***\n",
        "\n",
        "*-> 0 signifies malignant, and 1 signifies benign (as defined in the dictionary under taget_names).*\n",
        "\n",
        "* ***How many participants tested `Malignant`? ***\n",
        "\n",
        "*-> 212 participants are tested malignant.*\n",
        "\n",
        "* ***How many participants tested `Benign`? ***\n",
        "\n",
        "*-> 357 participants are tested benign.*"
      ]
    },
    {
      "cell_type": "code",
      "metadata": {
        "id": "CAk4vtuhp3sT"
      },
      "source": [
        "import numpy as np\n",
        "import sklearn\n",
        "import pandas as pd"
      ],
      "execution_count": null,
      "outputs": []
    },
    {
      "cell_type": "code",
      "metadata": {
        "id": "A5equ6ied8eg",
        "outputId": "ef84343f-4afd-4737-e27b-6e10c289f876",
        "colab": {
          "base_uri": "https://localhost:8080/",
          "height": 473
        }
      },
      "source": [
        "#Creating the dataframe \n",
        "df = pd.DataFrame(data=dataset['data'], columns=dataset['feature_names'])\n",
        "target_list = dataset['target'].tolist()\n",
        "df['target']=target_list\n",
        "df\n",
        "\n"
      ],
      "execution_count": null,
      "outputs": [
        {
          "output_type": "execute_result",
          "data": {
            "text/html": [
              "<div>\n",
              "<style scoped>\n",
              "    .dataframe tbody tr th:only-of-type {\n",
              "        vertical-align: middle;\n",
              "    }\n",
              "\n",
              "    .dataframe tbody tr th {\n",
              "        vertical-align: top;\n",
              "    }\n",
              "\n",
              "    .dataframe thead th {\n",
              "        text-align: right;\n",
              "    }\n",
              "</style>\n",
              "<table border=\"1\" class=\"dataframe\">\n",
              "  <thead>\n",
              "    <tr style=\"text-align: right;\">\n",
              "      <th></th>\n",
              "      <th>mean radius</th>\n",
              "      <th>mean texture</th>\n",
              "      <th>mean perimeter</th>\n",
              "      <th>mean area</th>\n",
              "      <th>mean smoothness</th>\n",
              "      <th>mean compactness</th>\n",
              "      <th>mean concavity</th>\n",
              "      <th>mean concave points</th>\n",
              "      <th>mean symmetry</th>\n",
              "      <th>mean fractal dimension</th>\n",
              "      <th>radius error</th>\n",
              "      <th>texture error</th>\n",
              "      <th>perimeter error</th>\n",
              "      <th>area error</th>\n",
              "      <th>smoothness error</th>\n",
              "      <th>compactness error</th>\n",
              "      <th>concavity error</th>\n",
              "      <th>concave points error</th>\n",
              "      <th>symmetry error</th>\n",
              "      <th>fractal dimension error</th>\n",
              "      <th>worst radius</th>\n",
              "      <th>worst texture</th>\n",
              "      <th>worst perimeter</th>\n",
              "      <th>worst area</th>\n",
              "      <th>worst smoothness</th>\n",
              "      <th>worst compactness</th>\n",
              "      <th>worst concavity</th>\n",
              "      <th>worst concave points</th>\n",
              "      <th>worst symmetry</th>\n",
              "      <th>worst fractal dimension</th>\n",
              "      <th>target</th>\n",
              "    </tr>\n",
              "  </thead>\n",
              "  <tbody>\n",
              "    <tr>\n",
              "      <th>0</th>\n",
              "      <td>17.99</td>\n",
              "      <td>10.38</td>\n",
              "      <td>122.80</td>\n",
              "      <td>1001.0</td>\n",
              "      <td>0.11840</td>\n",
              "      <td>0.27760</td>\n",
              "      <td>0.30010</td>\n",
              "      <td>0.14710</td>\n",
              "      <td>0.2419</td>\n",
              "      <td>0.07871</td>\n",
              "      <td>1.0950</td>\n",
              "      <td>0.9053</td>\n",
              "      <td>8.589</td>\n",
              "      <td>153.40</td>\n",
              "      <td>0.006399</td>\n",
              "      <td>0.04904</td>\n",
              "      <td>0.05373</td>\n",
              "      <td>0.01587</td>\n",
              "      <td>0.03003</td>\n",
              "      <td>0.006193</td>\n",
              "      <td>25.380</td>\n",
              "      <td>17.33</td>\n",
              "      <td>184.60</td>\n",
              "      <td>2019.0</td>\n",
              "      <td>0.16220</td>\n",
              "      <td>0.66560</td>\n",
              "      <td>0.7119</td>\n",
              "      <td>0.2654</td>\n",
              "      <td>0.4601</td>\n",
              "      <td>0.11890</td>\n",
              "      <td>0</td>\n",
              "    </tr>\n",
              "    <tr>\n",
              "      <th>1</th>\n",
              "      <td>20.57</td>\n",
              "      <td>17.77</td>\n",
              "      <td>132.90</td>\n",
              "      <td>1326.0</td>\n",
              "      <td>0.08474</td>\n",
              "      <td>0.07864</td>\n",
              "      <td>0.08690</td>\n",
              "      <td>0.07017</td>\n",
              "      <td>0.1812</td>\n",
              "      <td>0.05667</td>\n",
              "      <td>0.5435</td>\n",
              "      <td>0.7339</td>\n",
              "      <td>3.398</td>\n",
              "      <td>74.08</td>\n",
              "      <td>0.005225</td>\n",
              "      <td>0.01308</td>\n",
              "      <td>0.01860</td>\n",
              "      <td>0.01340</td>\n",
              "      <td>0.01389</td>\n",
              "      <td>0.003532</td>\n",
              "      <td>24.990</td>\n",
              "      <td>23.41</td>\n",
              "      <td>158.80</td>\n",
              "      <td>1956.0</td>\n",
              "      <td>0.12380</td>\n",
              "      <td>0.18660</td>\n",
              "      <td>0.2416</td>\n",
              "      <td>0.1860</td>\n",
              "      <td>0.2750</td>\n",
              "      <td>0.08902</td>\n",
              "      <td>0</td>\n",
              "    </tr>\n",
              "    <tr>\n",
              "      <th>2</th>\n",
              "      <td>19.69</td>\n",
              "      <td>21.25</td>\n",
              "      <td>130.00</td>\n",
              "      <td>1203.0</td>\n",
              "      <td>0.10960</td>\n",
              "      <td>0.15990</td>\n",
              "      <td>0.19740</td>\n",
              "      <td>0.12790</td>\n",
              "      <td>0.2069</td>\n",
              "      <td>0.05999</td>\n",
              "      <td>0.7456</td>\n",
              "      <td>0.7869</td>\n",
              "      <td>4.585</td>\n",
              "      <td>94.03</td>\n",
              "      <td>0.006150</td>\n",
              "      <td>0.04006</td>\n",
              "      <td>0.03832</td>\n",
              "      <td>0.02058</td>\n",
              "      <td>0.02250</td>\n",
              "      <td>0.004571</td>\n",
              "      <td>23.570</td>\n",
              "      <td>25.53</td>\n",
              "      <td>152.50</td>\n",
              "      <td>1709.0</td>\n",
              "      <td>0.14440</td>\n",
              "      <td>0.42450</td>\n",
              "      <td>0.4504</td>\n",
              "      <td>0.2430</td>\n",
              "      <td>0.3613</td>\n",
              "      <td>0.08758</td>\n",
              "      <td>0</td>\n",
              "    </tr>\n",
              "    <tr>\n",
              "      <th>3</th>\n",
              "      <td>11.42</td>\n",
              "      <td>20.38</td>\n",
              "      <td>77.58</td>\n",
              "      <td>386.1</td>\n",
              "      <td>0.14250</td>\n",
              "      <td>0.28390</td>\n",
              "      <td>0.24140</td>\n",
              "      <td>0.10520</td>\n",
              "      <td>0.2597</td>\n",
              "      <td>0.09744</td>\n",
              "      <td>0.4956</td>\n",
              "      <td>1.1560</td>\n",
              "      <td>3.445</td>\n",
              "      <td>27.23</td>\n",
              "      <td>0.009110</td>\n",
              "      <td>0.07458</td>\n",
              "      <td>0.05661</td>\n",
              "      <td>0.01867</td>\n",
              "      <td>0.05963</td>\n",
              "      <td>0.009208</td>\n",
              "      <td>14.910</td>\n",
              "      <td>26.50</td>\n",
              "      <td>98.87</td>\n",
              "      <td>567.7</td>\n",
              "      <td>0.20980</td>\n",
              "      <td>0.86630</td>\n",
              "      <td>0.6869</td>\n",
              "      <td>0.2575</td>\n",
              "      <td>0.6638</td>\n",
              "      <td>0.17300</td>\n",
              "      <td>0</td>\n",
              "    </tr>\n",
              "    <tr>\n",
              "      <th>4</th>\n",
              "      <td>20.29</td>\n",
              "      <td>14.34</td>\n",
              "      <td>135.10</td>\n",
              "      <td>1297.0</td>\n",
              "      <td>0.10030</td>\n",
              "      <td>0.13280</td>\n",
              "      <td>0.19800</td>\n",
              "      <td>0.10430</td>\n",
              "      <td>0.1809</td>\n",
              "      <td>0.05883</td>\n",
              "      <td>0.7572</td>\n",
              "      <td>0.7813</td>\n",
              "      <td>5.438</td>\n",
              "      <td>94.44</td>\n",
              "      <td>0.011490</td>\n",
              "      <td>0.02461</td>\n",
              "      <td>0.05688</td>\n",
              "      <td>0.01885</td>\n",
              "      <td>0.01756</td>\n",
              "      <td>0.005115</td>\n",
              "      <td>22.540</td>\n",
              "      <td>16.67</td>\n",
              "      <td>152.20</td>\n",
              "      <td>1575.0</td>\n",
              "      <td>0.13740</td>\n",
              "      <td>0.20500</td>\n",
              "      <td>0.4000</td>\n",
              "      <td>0.1625</td>\n",
              "      <td>0.2364</td>\n",
              "      <td>0.07678</td>\n",
              "      <td>0</td>\n",
              "    </tr>\n",
              "    <tr>\n",
              "      <th>...</th>\n",
              "      <td>...</td>\n",
              "      <td>...</td>\n",
              "      <td>...</td>\n",
              "      <td>...</td>\n",
              "      <td>...</td>\n",
              "      <td>...</td>\n",
              "      <td>...</td>\n",
              "      <td>...</td>\n",
              "      <td>...</td>\n",
              "      <td>...</td>\n",
              "      <td>...</td>\n",
              "      <td>...</td>\n",
              "      <td>...</td>\n",
              "      <td>...</td>\n",
              "      <td>...</td>\n",
              "      <td>...</td>\n",
              "      <td>...</td>\n",
              "      <td>...</td>\n",
              "      <td>...</td>\n",
              "      <td>...</td>\n",
              "      <td>...</td>\n",
              "      <td>...</td>\n",
              "      <td>...</td>\n",
              "      <td>...</td>\n",
              "      <td>...</td>\n",
              "      <td>...</td>\n",
              "      <td>...</td>\n",
              "      <td>...</td>\n",
              "      <td>...</td>\n",
              "      <td>...</td>\n",
              "      <td>...</td>\n",
              "    </tr>\n",
              "    <tr>\n",
              "      <th>564</th>\n",
              "      <td>21.56</td>\n",
              "      <td>22.39</td>\n",
              "      <td>142.00</td>\n",
              "      <td>1479.0</td>\n",
              "      <td>0.11100</td>\n",
              "      <td>0.11590</td>\n",
              "      <td>0.24390</td>\n",
              "      <td>0.13890</td>\n",
              "      <td>0.1726</td>\n",
              "      <td>0.05623</td>\n",
              "      <td>1.1760</td>\n",
              "      <td>1.2560</td>\n",
              "      <td>7.673</td>\n",
              "      <td>158.70</td>\n",
              "      <td>0.010300</td>\n",
              "      <td>0.02891</td>\n",
              "      <td>0.05198</td>\n",
              "      <td>0.02454</td>\n",
              "      <td>0.01114</td>\n",
              "      <td>0.004239</td>\n",
              "      <td>25.450</td>\n",
              "      <td>26.40</td>\n",
              "      <td>166.10</td>\n",
              "      <td>2027.0</td>\n",
              "      <td>0.14100</td>\n",
              "      <td>0.21130</td>\n",
              "      <td>0.4107</td>\n",
              "      <td>0.2216</td>\n",
              "      <td>0.2060</td>\n",
              "      <td>0.07115</td>\n",
              "      <td>0</td>\n",
              "    </tr>\n",
              "    <tr>\n",
              "      <th>565</th>\n",
              "      <td>20.13</td>\n",
              "      <td>28.25</td>\n",
              "      <td>131.20</td>\n",
              "      <td>1261.0</td>\n",
              "      <td>0.09780</td>\n",
              "      <td>0.10340</td>\n",
              "      <td>0.14400</td>\n",
              "      <td>0.09791</td>\n",
              "      <td>0.1752</td>\n",
              "      <td>0.05533</td>\n",
              "      <td>0.7655</td>\n",
              "      <td>2.4630</td>\n",
              "      <td>5.203</td>\n",
              "      <td>99.04</td>\n",
              "      <td>0.005769</td>\n",
              "      <td>0.02423</td>\n",
              "      <td>0.03950</td>\n",
              "      <td>0.01678</td>\n",
              "      <td>0.01898</td>\n",
              "      <td>0.002498</td>\n",
              "      <td>23.690</td>\n",
              "      <td>38.25</td>\n",
              "      <td>155.00</td>\n",
              "      <td>1731.0</td>\n",
              "      <td>0.11660</td>\n",
              "      <td>0.19220</td>\n",
              "      <td>0.3215</td>\n",
              "      <td>0.1628</td>\n",
              "      <td>0.2572</td>\n",
              "      <td>0.06637</td>\n",
              "      <td>0</td>\n",
              "    </tr>\n",
              "    <tr>\n",
              "      <th>566</th>\n",
              "      <td>16.60</td>\n",
              "      <td>28.08</td>\n",
              "      <td>108.30</td>\n",
              "      <td>858.1</td>\n",
              "      <td>0.08455</td>\n",
              "      <td>0.10230</td>\n",
              "      <td>0.09251</td>\n",
              "      <td>0.05302</td>\n",
              "      <td>0.1590</td>\n",
              "      <td>0.05648</td>\n",
              "      <td>0.4564</td>\n",
              "      <td>1.0750</td>\n",
              "      <td>3.425</td>\n",
              "      <td>48.55</td>\n",
              "      <td>0.005903</td>\n",
              "      <td>0.03731</td>\n",
              "      <td>0.04730</td>\n",
              "      <td>0.01557</td>\n",
              "      <td>0.01318</td>\n",
              "      <td>0.003892</td>\n",
              "      <td>18.980</td>\n",
              "      <td>34.12</td>\n",
              "      <td>126.70</td>\n",
              "      <td>1124.0</td>\n",
              "      <td>0.11390</td>\n",
              "      <td>0.30940</td>\n",
              "      <td>0.3403</td>\n",
              "      <td>0.1418</td>\n",
              "      <td>0.2218</td>\n",
              "      <td>0.07820</td>\n",
              "      <td>0</td>\n",
              "    </tr>\n",
              "    <tr>\n",
              "      <th>567</th>\n",
              "      <td>20.60</td>\n",
              "      <td>29.33</td>\n",
              "      <td>140.10</td>\n",
              "      <td>1265.0</td>\n",
              "      <td>0.11780</td>\n",
              "      <td>0.27700</td>\n",
              "      <td>0.35140</td>\n",
              "      <td>0.15200</td>\n",
              "      <td>0.2397</td>\n",
              "      <td>0.07016</td>\n",
              "      <td>0.7260</td>\n",
              "      <td>1.5950</td>\n",
              "      <td>5.772</td>\n",
              "      <td>86.22</td>\n",
              "      <td>0.006522</td>\n",
              "      <td>0.06158</td>\n",
              "      <td>0.07117</td>\n",
              "      <td>0.01664</td>\n",
              "      <td>0.02324</td>\n",
              "      <td>0.006185</td>\n",
              "      <td>25.740</td>\n",
              "      <td>39.42</td>\n",
              "      <td>184.60</td>\n",
              "      <td>1821.0</td>\n",
              "      <td>0.16500</td>\n",
              "      <td>0.86810</td>\n",
              "      <td>0.9387</td>\n",
              "      <td>0.2650</td>\n",
              "      <td>0.4087</td>\n",
              "      <td>0.12400</td>\n",
              "      <td>0</td>\n",
              "    </tr>\n",
              "    <tr>\n",
              "      <th>568</th>\n",
              "      <td>7.76</td>\n",
              "      <td>24.54</td>\n",
              "      <td>47.92</td>\n",
              "      <td>181.0</td>\n",
              "      <td>0.05263</td>\n",
              "      <td>0.04362</td>\n",
              "      <td>0.00000</td>\n",
              "      <td>0.00000</td>\n",
              "      <td>0.1587</td>\n",
              "      <td>0.05884</td>\n",
              "      <td>0.3857</td>\n",
              "      <td>1.4280</td>\n",
              "      <td>2.548</td>\n",
              "      <td>19.15</td>\n",
              "      <td>0.007189</td>\n",
              "      <td>0.00466</td>\n",
              "      <td>0.00000</td>\n",
              "      <td>0.00000</td>\n",
              "      <td>0.02676</td>\n",
              "      <td>0.002783</td>\n",
              "      <td>9.456</td>\n",
              "      <td>30.37</td>\n",
              "      <td>59.16</td>\n",
              "      <td>268.6</td>\n",
              "      <td>0.08996</td>\n",
              "      <td>0.06444</td>\n",
              "      <td>0.0000</td>\n",
              "      <td>0.0000</td>\n",
              "      <td>0.2871</td>\n",
              "      <td>0.07039</td>\n",
              "      <td>1</td>\n",
              "    </tr>\n",
              "  </tbody>\n",
              "</table>\n",
              "<p>569 rows × 31 columns</p>\n",
              "</div>"
            ],
            "text/plain": [
              "     mean radius  mean texture  ...  worst fractal dimension  target\n",
              "0          17.99         10.38  ...                  0.11890       0\n",
              "1          20.57         17.77  ...                  0.08902       0\n",
              "2          19.69         21.25  ...                  0.08758       0\n",
              "3          11.42         20.38  ...                  0.17300       0\n",
              "4          20.29         14.34  ...                  0.07678       0\n",
              "..           ...           ...  ...                      ...     ...\n",
              "564        21.56         22.39  ...                  0.07115       0\n",
              "565        20.13         28.25  ...                  0.06637       0\n",
              "566        16.60         28.08  ...                  0.07820       0\n",
              "567        20.60         29.33  ...                  0.12400       0\n",
              "568         7.76         24.54  ...                  0.07039       1\n",
              "\n",
              "[569 rows x 31 columns]"
            ]
          },
          "metadata": {
            "tags": []
          },
          "execution_count": 210
        }
      ]
    },
    {
      "cell_type": "code",
      "metadata": {
        "id": "RnyEHKfbHFdQ"
      },
      "source": [
        "#Creating a separate datafram for all features, which will be used for trial-and-error\n",
        "df_features = pd.DataFrame(data=dataset['data'], columns=dataset['feature_names'])\n",
        "#df_features"
      ],
      "execution_count": null,
      "outputs": []
    },
    {
      "cell_type": "code",
      "metadata": {
        "id": "6jsySVJE1tU0",
        "outputId": "f4040579-fd2e-4418-9fc6-ef49849fd004",
        "colab": {
          "base_uri": "https://localhost:8080/",
          "height": 34
        }
      },
      "source": [
        "#Checking how many features do we have\n",
        "print(df_features.shape)"
      ],
      "execution_count": null,
      "outputs": [
        {
          "output_type": "stream",
          "text": [
            "(569, 30)\n"
          ],
          "name": "stdout"
        }
      ]
    },
    {
      "cell_type": "code",
      "metadata": {
        "id": "xpdTiMO7pUOp",
        "outputId": "c43bcc66-7bf8-4d62-f769-e230b9c35e74",
        "colab": {
          "base_uri": "https://localhost:8080/",
          "height": 51
        }
      },
      "source": [
        "#Counting the number of benign cases (the number of 1)\n",
        "occurences_benign = np.count_nonzero(df['target']==1)\n",
        "print(\"The number of benign cases is: \", occurences_benign)\n",
        "\n",
        "#Counting the number of malignant cases (the number of 0)\n",
        "num_zeros = (df['target'] == 0).sum()\n",
        "print(\"The number of malignant cases is: \", num_zeros)"
      ],
      "execution_count": null,
      "outputs": [
        {
          "output_type": "stream",
          "text": [
            "The number of benign cases is:  357\n",
            "The number of malignant cases is:  212\n"
          ],
          "name": "stdout"
        }
      ]
    },
    {
      "cell_type": "markdown",
      "metadata": {
        "id": "bk5iZ2lV8SEd"
      },
      "source": [
        "Use `seaborn.lmplot` ([help here](https://seaborn.pydata.org/generated/seaborn.lmplot.html)) to visualize a few features of the dataset. Draw a plot where the x-axis is \"mean radius\", the y-axis is \"mean texture,\" and the color of each datapoint indicates its class. Do this once again for different features for the x- and y-axis and see how the data is distributed. **[1]**\n"
      ]
    },
    {
      "cell_type": "code",
      "metadata": {
        "id": "H_OUNQ7Mpd3d",
        "outputId": "d4860900-affc-4145-de2e-16f75493e28d",
        "colab": {
          "base_uri": "https://localhost:8080/",
          "height": 1000
        }
      },
      "source": [
        "#Plotting mean texture vs. mean radius, mean compactness vs. mean symmetry\n",
        "import seaborn as sns\n",
        "import matplotlib.pyplot as plt\n",
        "sns.lmplot(x=\"mean radius\", y=\"mean texture\", hue = 'target',data=df)\n",
        "sns.lmplot(x=\"mean compactness\", y=\"mean symmetry\", hue = 'target',data=df)\n",
        "\n",
        "#Plotting mean perimeter vs. mean compactness (features with 2 very differnt scales)\n",
        "sns.lmplot(x=\"mean perimeter\", y=\"mean compactness\", hue = 'target',data=df)"
      ],
      "execution_count": null,
      "outputs": [
        {
          "output_type": "execute_result",
          "data": {
            "text/plain": [
              "<seaborn.axisgrid.FacetGrid at 0x7f7942202400>"
            ]
          },
          "metadata": {
            "tags": []
          },
          "execution_count": 214
        },
        {
          "output_type": "display_data",
          "data": {
            "image/png": "[encoded data removed]",
            "text/plain": [
              "<Figure size 402.375x360 with 1 Axes>"
            ]
          },
          "metadata": {
            "tags": [],
            "needs_background": "light"
          }
        },
        {
          "output_type": "display_data",
          "data": {
            "image/png": "[encoded data removed]",
            "text/plain": [
              "<Figure size 402.375x360 with 1 Axes>"
            ]
          },
          "metadata": {
            "tags": [],
            "needs_background": "light"
          }
        },
        {
          "output_type": "display_data",
          "data": {
            "image/png": "[encoded data removed]",
            "text/plain": [
              "<Figure size 402.375x360 with 1 Axes>"
            ]
          },
          "metadata": {
            "tags": [],
            "needs_background": "light"
          }
        }
      ]
    },
    {
      "cell_type": "markdown",
      "metadata": {
        "id": "RgtzGgzy8YgQ"
      },
      "source": [
        "Standardizing the data is often critical in machine learning. Show a plot as above, but with two features with very different scales. Standardize the data and plot those features again. What's different? Why? **[1]**"
      ]
    },
    {
      "cell_type": "markdown",
      "metadata": {
        "id": "8IL5_sGI9FA8"
      },
      "source": [
        "*The plot before standardization and the plot after standardization are the same. Personally thinking, one reason is that seaborn and matplotlib automatically adjust the scale if the scale of x and y are drastically different, in order to facilitate a better visualization. Another reason is that, this dataset is a breast cancer dataset, which means it is a natural dataset. Most natural datasets have a normal distribution. Therefore, with a decent number of datapoints in this dataset, the data distribution could be really close to normal distribution, and thus its plot may not undergo big changes after standardization.*"
      ]
    },
    {
      "cell_type": "code",
      "metadata": {
        "id": "15X8t1m4pjgF",
        "outputId": "ef0bea44-8d58-4ef9-ea6c-b7a9491d687d",
        "colab": {
          "base_uri": "https://localhost:8080/",
          "height": 386
        }
      },
      "source": [
        "#Standardize the dataset except target then re-plot\n",
        "from sklearn.preprocessing import StandardScaler\n",
        "scaled_df = StandardScaler().fit_transform(df)\n",
        "scaled_df_notarget = np.delete(scaled_df, -1, 1)\n",
        "df2 = pd.DataFrame(scaled_df_notarget, columns=dataset['feature_names'])\n",
        "target_list = dataset['target'].tolist()\n",
        "df2['target']=target_list\n",
        "sns.lmplot(x=\"mean perimeter\", y=\"mean compactness\", hue = 'target',data=df2)"
      ],
      "execution_count": null,
      "outputs": [
        {
          "output_type": "execute_result",
          "data": {
            "text/plain": [
              "<seaborn.axisgrid.FacetGrid at 0x7f7941fa6ef0>"
            ]
          },
          "metadata": {
            "tags": []
          },
          "execution_count": 215
        },
        {
          "output_type": "display_data",
          "data": {
            "image/png": "[encoded data removed]",
            "text/plain": [
              "<Figure size 402.375x360 with 1 Axes>"
            ]
          },
          "metadata": {
            "tags": [],
            "needs_background": "light"
          }
        }
      ]
    },
    {
      "cell_type": "markdown",
      "metadata": {
        "id": "X4XBQCF-8fvC"
      },
      "source": [
        "It is best practice to have a training set (from which there is a rotating validation subset) and a test set. Our aim here is to (eventually) obtain the best accuracy we can on the test set (we'll do all our tuning on the training/validation sets, however). To tune `k` (our hyperparameter), we employ cross-validation ([Help](https://scikit-learn.org/stable/modules/cross_validation.html)). Cross-validation automatically selects validation subsets from the data that you provided. Split the dataset into a train and a test set **\"70:30\"**, use **``random_state=0``**. The test set is set aside (untouched) for final evaluation, once hyperparameter optimization is complete. **[1]**"
      ]
    },
    {
      "cell_type": "code",
      "metadata": {
        "id": "7fjqSpMHppUt"
      },
      "source": [
        "#Splitting the original dataset\n",
        "from sklearn.model_selection import train_test_split\n",
        "X_train, X_test, y_train, y_test = train_test_split(df_features, target_list, test_size=0.3, random_state=0)"
      ],
      "execution_count": null,
      "outputs": []
    },
    {
      "cell_type": "markdown",
      "metadata": {
        "id": "aBmo0-W1yZFs"
      },
      "source": [
        "## Part 2: KNN Classifier without Standardization [3 Marks]\n",
        "Normally, standardizing data is a key step in preparing data for a KNN classifier. However, for educational purposes, let's first try to build a model without standardization. Let's create a KNN classifier to predict whether a patient has a malignant or benign tumor. \n",
        "\n",
        "Follow these steps: \n",
        "\n",
        "1.   Train a KNN Classifier using cross-validation on the dataset. Sweep `k` (number of neighbours) from 1 to 100, and show a plot of the mean cross-validation accuracy vs `k`. **[1]**\n",
        "\n"
      ]
    },
    {
      "cell_type": "code",
      "metadata": {
        "id": "cyEV-mVSAMaV",
        "outputId": "d0711642-76a9-4e4b-dc98-d5248ef1ab44",
        "colab": {
          "base_uri": "https://localhost:8080/",
          "height": 1000
        }
      },
      "source": [
        "from sklearn import neighbors\n",
        "from sklearn.model_selection import cross_val_score\n",
        "\n",
        "acc_max = 0\n",
        "k_max = 0\n",
        "\n",
        "#for loop to sweep k from 1 to 100\n",
        "accuracy = np.zeros(100)\n",
        "k = np.arange(1,101,1)\n",
        "for i in range (0,100):\n",
        "  knn = neighbors.KNeighborsClassifier(n_neighbors=i+1)\n",
        "  knn.fit(X_train, y_train)\n",
        "  scores = cross_val_score(knn, X_train, y_train, cv=5)\n",
        "  accuracy[i] = scores.mean()*100\n",
        "  print(i+1, accuracy[i])\n",
        "  if accuracy[i] > acc_max:\n",
        "    acc_max = accuracy[i]\n",
        "    k_max = i+1\n",
        "\n",
        "print(\"The optimal k value is: \", k_max,\".\", \"The maximum accuracy is: \", acc_max, \"%.\")\n",
        "\n",
        "#Plotting Accuracy vs. Number of neighbors\n",
        "plt.plot(k, accuracy)\n",
        "plt.xlabel(\"Number of neighbors\")\n",
        "plt.ylabel(\"Accuracy (%)\")\n",
        "plt.title(\"Accuracy vs. Number of neighbors\")\n",
        "\n",
        "\n",
        "  "
      ],
      "execution_count": null,
      "outputs": [
        {
          "output_type": "stream",
          "text": [
            "1 91.7120253164557\n",
            "2 91.70886075949367\n",
            "3 92.72151898734178\n",
            "4 92.71202531645571\n",
            "5 91.9620253164557\n",
            "6 92.46518987341773\n",
            "7 93.21518987341773\n",
            "8 93.21518987341773\n",
            "9 92.46202531645568\n",
            "10 93.46518987341771\n",
            "11 93.46518987341771\n",
            "12 93.2120253164557\n",
            "13 92.21518987341773\n",
            "14 92.96835443037976\n",
            "15 92.21518987341773\n",
            "16 92.46202531645568\n",
            "17 91.20569620253164\n",
            "18 91.95886075949367\n",
            "19 91.20886075949369\n",
            "20 91.45886075949366\n",
            "21 90.70253164556962\n",
            "22 90.95253164556961\n",
            "23 90.70569620253166\n",
            "24 90.70253164556961\n",
            "25 90.45253164556962\n",
            "26 90.95569620253163\n",
            "27 90.95569620253163\n",
            "28 90.95569620253163\n",
            "29 90.95569620253163\n",
            "30 90.95569620253163\n",
            "31 90.45569620253164\n",
            "32 90.70569620253166\n",
            "33 90.70569620253166\n",
            "34 90.95569620253166\n",
            "35 90.95569620253166\n",
            "36 90.70569620253164\n",
            "37 90.70569620253166\n",
            "38 90.95569620253166\n",
            "39 90.95569620253166\n",
            "40 90.95569620253166\n",
            "41 90.70569620253166\n",
            "42 90.95569620253166\n",
            "43 90.95569620253166\n",
            "44 90.95569620253166\n",
            "45 90.20569620253166\n",
            "46 90.70569620253166\n",
            "47 90.20253164556962\n",
            "48 90.95569620253166\n",
            "49 90.45569620253164\n",
            "50 90.70569620253164\n",
            "51 90.70886075949367\n",
            "52 90.70569620253166\n",
            "53 90.20253164556962\n",
            "54 90.20253164556962\n",
            "55 90.20253164556962\n",
            "56 90.20253164556962\n",
            "57 90.20569620253166\n",
            "58 90.20253164556962\n",
            "59 90.45569620253164\n",
            "60 90.45569620253164\n",
            "61 90.20569620253166\n",
            "62 90.20253164556962\n",
            "63 90.45569620253164\n",
            "64 90.45569620253164\n",
            "65 90.20253164556962\n",
            "66 90.45569620253164\n",
            "67 90.45569620253164\n",
            "68 90.45569620253164\n",
            "69 90.20253164556962\n",
            "70 90.45569620253164\n",
            "71 90.20253164556962\n",
            "72 90.20253164556962\n",
            "73 89.94936708860759\n",
            "74 89.94936708860759\n",
            "75 89.94936708860759\n",
            "76 89.94936708860759\n",
            "77 90.20253164556962\n",
            "78 90.20253164556962\n",
            "79 89.44936708860759\n",
            "80 89.6993670886076\n",
            "81 89.6993670886076\n",
            "82 89.6993670886076\n",
            "83 89.44936708860759\n",
            "84 89.6993670886076\n",
            "85 89.19620253164557\n",
            "86 89.6993670886076\n",
            "87 89.19620253164557\n",
            "88 89.44620253164557\n",
            "89 89.19620253164557\n",
            "90 89.44620253164557\n",
            "91 89.19620253164557\n",
            "92 89.44620253164557\n",
            "93 89.44620253164557\n",
            "94 89.44620253164557\n",
            "95 88.94620253164555\n",
            "96 89.44620253164557\n",
            "97 88.69303797468355\n",
            "98 88.69303797468355\n",
            "99 88.69303797468355\n",
            "100 88.94303797468355\n",
            "The optimal k value is:  10 . The maximum accuracy is:  93.46518987341771 %.\n"
          ],
          "name": "stdout"
        },
        {
          "output_type": "execute_result",
          "data": {
            "text/plain": [
              "Text(0.5, 1.0, 'Accuracy vs. Number of neighbors')"
            ]
          },
          "metadata": {
            "tags": []
          },
          "execution_count": 217
        },
        {
          "output_type": "display_data",
          "data": {
            "image/png": "[encoded data removed]",
            "text/plain": [
              "<Figure size 432x288 with 1 Axes>"
            ]
          },
          "metadata": {
            "tags": [],
            "needs_background": "light"
          }
        }
      ]
    },
    {
      "cell_type": "markdown",
      "metadata": {
        "id": "q8AXFxto_BlI"
      },
      "source": [
        "2.   What is the best `k`? Comment on  which `k`s lead to underfitted or overfitted models. **[1]**"
      ]
    },
    {
      "cell_type": "markdown",
      "metadata": {
        "id": "zp1O83ILAM2z"
      },
      "source": [
        "*The best k value is 10. The maximum accuracy is 93.47.*\n",
        "*For k values <10, the model overfits because with a smaller number of neighbors taken into consideration the accuracy decreases.*\n",
        "*For k values >10, the model underfits because with a bigger number of neighbors taken into consideration the accuracy decreases.*"
      ]
    },
    {
      "cell_type": "markdown",
      "metadata": {
        "id": "-LmFiOgI_IJb"
      },
      "source": [
        "3.   Can you get the same accuracy (roughly) with fewer features using a KNN model? You're free to use trial-and-error to remove features (try at least 5 combinations), or use a more sophisticated approach like [Backward Elimination](https://towardsdatascience.com/backward-elimination-for-feature-selection-in-machine-learning-c6a3a8f8cef4). \n",
        "Describe your findings using a graph or table (or multiple!). **[1]**"
      ]
    },
    {
      "cell_type": "markdown",
      "metadata": {
        "id": "Tu0xfz2AGSZ1"
      },
      "source": [
        "*I was able to get roughly the same accuracy with fewer features by trial-and-error. **The results are summarized in Table1 below**. 5 combinations were examined, each one representing one or more different features removed. It is observed that as the number of features removed increases, the train accuracy decreases. The threshold for the number of features removed seems to be 2. Once more than 2 features are removed, the train accuracy decreases. Moreover, features that depict the physiological characteristics of the tumor (e.g. mean texture, mean area, mean compactness, etc.) play a critical role in predicting if the tumor is malignant or not. They should not be removed if we want to achieve a high accuracy.*"
      ]
    },
    {
      "cell_type": "code",
      "metadata": {
        "id": "IkDQZHd4DK59",
        "outputId": "4d2a2324-a668-45d3-a947-fcfdb5e419ed",
        "colab": {
          "base_uri": "https://localhost:8080/",
          "height": 187
        }
      },
      "source": [
        "#Creating a summary table\n",
        "\n",
        "from prettytable import PrettyTable\n",
        "\n",
        "table1 = PrettyTable()\n",
        "table1.field_names = [\"Removed Feature(s)\", \"Optimal k\", \"Maximum Training Accuracy (%)\"]\n",
        "table1.add_row([\"None\", 10, 93.47])\n",
        "table1.add_row([\"Mean Symmetry\", 10, 93.47])\n",
        "table1.add_row([\"Mean Concave Points\", 10, 93.47])\n",
        "table1.add_row([\"Fractal Dimension Error, Worst Concavity\", 10, 93.47])\n",
        "table1.add_row([\"Mean Texture, Mean area, Mean Compactness\", 34, 91.46])\n",
        "table1.add_row([\"Worst Smoothness, Worst Compactness, Worst Symmetry, Worst Area\", 1, 92.21])\n",
        "\n",
        "print(table1)\n"
      ],
      "execution_count": null,
      "outputs": [
        {
          "output_type": "stream",
          "text": [
            "+-----------------------------------------------------------------+-----------+-------------------------------+\n",
            "|                        Removed Feature(s)                       | Optimal k | Maximum Training Accuracy (%) |\n",
            "+-----------------------------------------------------------------+-----------+-------------------------------+\n",
            "|                               None                              |     10    |             93.47             |\n",
            "|                          Mean Symmetry                          |     10    |             93.47             |\n",
            "|                       Mean Concave Points                       |     10    |             93.47             |\n",
            "|             Fractal Dimension Error, Worst Concavity            |     10    |             93.47             |\n",
            "|            Mean Texture, Mean area, Mean Compactness            |     34    |             91.46             |\n",
            "| Worst Smoothness, Worst Compactness, Worst Symmetry, Worst Area |     1     |             92.21             |\n",
            "+-----------------------------------------------------------------+-----------+-------------------------------+\n"
          ],
          "name": "stdout"
        }
      ]
    },
    {
      "cell_type": "code",
      "metadata": {
        "id": "DIEW8NSVMTUo",
        "outputId": "7bf11875-846e-42f2-f1d7-0d27445a045f",
        "colab": {
          "base_uri": "https://localhost:8080/",
          "height": 1000
        }
      },
      "source": [
        "#Reducing dataset\n",
        "\n",
        "#Drop mean symmetry\n",
        "X_train_nosym = X_train.drop(['mean symmetry'], axis=1)\n",
        "\n",
        "#Train\n",
        "acc_max_nosym = 0\n",
        "k_max_nosym = 0\n",
        "\n",
        " #for loop to sweep k from 1 to 100\n",
        "accuracy_nosym = np.zeros(100)\n",
        "k = np.arange(1,101,1)\n",
        "\n",
        "for i in range (0,100):\n",
        "  knn = neighbors.KNeighborsClassifier(n_neighbors=i+1)\n",
        "  knn.fit(X_train_nosym, y_train)\n",
        "  scores_nosym = cross_val_score(knn, X_train_nosym, y_train, cv=5)\n",
        "  accuracy_nosym[i] = scores_nosym.mean()*100\n",
        "  print(i+1, accuracy_nosym[i])\n",
        "  if accuracy_nosym[i] > acc_max_nosym:\n",
        "    acc_max_nosym = accuracy_nosym[i]\n",
        "    k_max_nosym = i+1\n",
        "\n",
        "#Print optimal k and maximum accuracy\n",
        "print(\"The optimal k value is: \", k_max_nosym,\".\", \"The maximum accuracy is: \", acc_max_nosym, \"%.\")\n",
        "\n",
        "#Plotting Accuracy vs. Number of neighbors\n",
        "plt.plot(k, accuracy_nosym)\n",
        "plt.xlabel(\"Number of neighbors\")\n",
        "plt.ylabel(\"Accuracy (%)\")\n",
        "plt.title(\"Accuracy vs. Number of neighbors (without mean symmetry)\")"
      ],
      "execution_count": null,
      "outputs": [
        {
          "output_type": "stream",
          "text": [
            "1 91.7120253164557\n",
            "2 91.70886075949367\n",
            "3 92.72151898734178\n",
            "4 92.71202531645571\n",
            "5 91.9620253164557\n",
            "6 92.46518987341773\n",
            "7 93.21518987341773\n",
            "8 93.21518987341773\n",
            "9 92.46202531645568\n",
            "10 93.46518987341771\n",
            "11 93.46518987341771\n",
            "12 93.2120253164557\n",
            "13 92.21518987341773\n",
            "14 92.96835443037976\n",
            "15 92.21518987341773\n",
            "16 92.46202531645568\n",
            "17 91.20569620253164\n",
            "18 91.95886075949367\n",
            "19 91.20886075949369\n",
            "20 91.45886075949366\n",
            "21 90.70253164556962\n",
            "22 90.95253164556961\n",
            "23 90.70569620253166\n",
            "24 90.70253164556961\n",
            "25 90.45253164556962\n",
            "26 90.95569620253163\n",
            "27 90.95569620253163\n",
            "28 90.95569620253163\n",
            "29 90.95569620253163\n",
            "30 90.95569620253163\n",
            "31 90.45569620253164\n",
            "32 90.70569620253166\n",
            "33 90.70569620253166\n",
            "34 90.95569620253166\n",
            "35 90.95569620253166\n",
            "36 90.70569620253164\n",
            "37 90.70569620253166\n",
            "38 90.95569620253166\n",
            "39 90.95569620253166\n",
            "40 90.95569620253166\n",
            "41 90.70569620253166\n",
            "42 90.95569620253166\n",
            "43 90.95569620253166\n",
            "44 90.95569620253166\n",
            "45 90.20569620253166\n",
            "46 90.70569620253166\n",
            "47 90.20253164556962\n",
            "48 90.95569620253166\n",
            "49 90.45569620253164\n",
            "50 90.70569620253164\n",
            "51 90.70886075949367\n",
            "52 90.70569620253166\n",
            "53 90.20253164556962\n",
            "54 90.20253164556962\n",
            "55 90.20253164556962\n",
            "56 90.20253164556962\n",
            "57 90.20569620253166\n",
            "58 90.20253164556962\n",
            "59 90.45569620253164\n",
            "60 90.45569620253164\n",
            "61 90.20569620253166\n",
            "62 90.20253164556962\n",
            "63 90.45569620253164\n",
            "64 90.45569620253164\n",
            "65 90.20253164556962\n",
            "66 90.45569620253164\n",
            "67 90.45569620253164\n",
            "68 90.45569620253164\n",
            "69 90.20253164556962\n",
            "70 90.45569620253164\n",
            "71 90.20253164556962\n",
            "72 90.20253164556962\n",
            "73 89.94936708860759\n",
            "74 89.94936708860759\n",
            "75 89.94936708860759\n",
            "76 89.94936708860759\n",
            "77 90.20253164556962\n",
            "78 90.20253164556962\n",
            "79 89.44936708860759\n",
            "80 89.6993670886076\n",
            "81 89.6993670886076\n",
            "82 89.6993670886076\n",
            "83 89.44936708860759\n",
            "84 89.6993670886076\n",
            "85 89.19620253164557\n",
            "86 89.6993670886076\n",
            "87 89.19620253164557\n",
            "88 89.44620253164557\n",
            "89 89.19620253164557\n",
            "90 89.44620253164557\n",
            "91 89.19620253164557\n",
            "92 89.44620253164557\n",
            "93 89.44620253164557\n",
            "94 89.44620253164557\n",
            "95 88.94620253164555\n",
            "96 89.44620253164557\n",
            "97 88.69303797468355\n",
            "98 88.69303797468355\n",
            "99 88.69303797468355\n",
            "100 88.94303797468355\n",
            "The optimal k value is:  10 . The maximum accuracy is:  93.46518987341771 %.\n"
          ],
          "name": "stdout"
        },
        {
          "output_type": "execute_result",
          "data": {
            "text/plain": [
              "Text(0.5, 1.0, 'Accuracy vs. Number of neighbors (without mean symmetry)')"
            ]
          },
          "metadata": {
            "tags": []
          },
          "execution_count": 219
        },
        {
          "output_type": "display_data",
          "data": {
            "image/png": "[encoded data removed]",
            "text/plain": [
              "<Figure size 432x288 with 1 Axes>"
            ]
          },
          "metadata": {
            "tags": [],
            "needs_background": "light"
          }
        }
      ]
    },
    {
      "cell_type": "code",
      "metadata": {
        "id": "6OzwA8JSQiHD",
        "outputId": "ed82e243-c894-492d-ae32-8fe10acb4eb3",
        "colab": {
          "base_uri": "https://localhost:8080/",
          "height": 1000
        }
      },
      "source": [
        "#Drop mean concave points\n",
        "X_train_noconcavept = X_train.drop(['mean concave points'], axis=1)\n",
        "\n",
        "#Train\n",
        "acc_max_noconcavept = 0\n",
        "k_max_noconcavept = 0\n",
        "\n",
        " #for loop to sweep k from 1 to 100\n",
        "accuracy_noconcavept = np.zeros(100)\n",
        "k = np.arange(1,101,1)\n",
        "\n",
        "for i in range (0,100):\n",
        "  knn = neighbors.KNeighborsClassifier(n_neighbors=i+1)\n",
        "  knn.fit(X_train_noconcavept, y_train)\n",
        "  scores_noconcavept = cross_val_score(knn, X_train_noconcavept, y_train, cv=5)\n",
        "  accuracy_noconcavept[i] = scores_noconcavept.mean()*100\n",
        "  print(i+1, accuracy_noconcavept[i])\n",
        "  if accuracy_noconcavept[i] > acc_max_noconcavept:\n",
        "    acc_max_noconcavept = accuracy_noconcavept[i]\n",
        "    k_max_noconcavept = i+1\n",
        "\n",
        "#Print optimal k and maximum accuracy\n",
        "print(\"The optimal k value is: \", k_max_noconcavept,\".\", \"The maximum accuracy is: \", acc_max_noconcavept, \"%.\")\n",
        "\n",
        "#Plotting Accuracy vs. Number of neighbors\n",
        "plt.plot(k, accuracy_noconcavept)\n",
        "plt.xlabel(\"Number of neighbors\")\n",
        "plt.ylabel(\"Accuracy (%)\")\n",
        "plt.title(\"Accuracy vs. Number of neighbors (without mean concave points)\")"
      ],
      "execution_count": null,
      "outputs": [
        {
          "output_type": "stream",
          "text": [
            "1 91.7120253164557\n",
            "2 91.70886075949367\n",
            "3 92.72151898734178\n",
            "4 92.71202531645571\n",
            "5 91.9620253164557\n",
            "6 92.46518987341773\n",
            "7 93.21518987341773\n",
            "8 93.21518987341773\n",
            "9 92.46202531645568\n",
            "10 93.46518987341771\n",
            "11 93.46518987341771\n",
            "12 93.2120253164557\n",
            "13 92.21518987341773\n",
            "14 92.96835443037976\n",
            "15 92.21518987341773\n",
            "16 92.46202531645568\n",
            "17 91.20569620253164\n",
            "18 91.95886075949367\n",
            "19 91.20886075949369\n",
            "20 91.45886075949366\n",
            "21 90.70253164556962\n",
            "22 90.95253164556961\n",
            "23 90.70569620253166\n",
            "24 90.70253164556961\n",
            "25 90.45253164556962\n",
            "26 90.95569620253163\n",
            "27 90.95569620253163\n",
            "28 90.95569620253163\n",
            "29 90.95569620253163\n",
            "30 90.95569620253163\n",
            "31 90.45569620253164\n",
            "32 90.70569620253166\n",
            "33 90.70569620253166\n",
            "34 90.95569620253166\n",
            "35 90.95569620253166\n",
            "36 90.70569620253164\n",
            "37 90.70569620253166\n",
            "38 90.95569620253166\n",
            "39 90.95569620253166\n",
            "40 90.95569620253166\n",
            "41 90.70569620253166\n",
            "42 90.95569620253166\n",
            "43 90.95569620253166\n",
            "44 90.95569620253166\n",
            "45 90.20569620253166\n",
            "46 90.70569620253166\n",
            "47 90.20253164556962\n",
            "48 90.95569620253166\n",
            "49 90.45569620253164\n",
            "50 90.70569620253164\n",
            "51 90.70886075949367\n",
            "52 90.70569620253166\n",
            "53 90.20253164556962\n",
            "54 90.20253164556962\n",
            "55 90.20253164556962\n",
            "56 90.20253164556962\n",
            "57 90.20569620253166\n",
            "58 90.20253164556962\n",
            "59 90.45569620253164\n",
            "60 90.45569620253164\n",
            "61 90.20569620253166\n",
            "62 90.20253164556962\n",
            "63 90.45569620253164\n",
            "64 90.45569620253164\n",
            "65 90.20253164556962\n",
            "66 90.45569620253164\n",
            "67 90.45569620253164\n",
            "68 90.45569620253164\n",
            "69 90.20253164556962\n",
            "70 90.45569620253164\n",
            "71 90.20253164556962\n",
            "72 90.20253164556962\n",
            "73 89.94936708860759\n",
            "74 89.94936708860759\n",
            "75 89.94936708860759\n",
            "76 89.94936708860759\n",
            "77 90.20253164556962\n",
            "78 90.20253164556962\n",
            "79 89.44936708860759\n",
            "80 89.6993670886076\n",
            "81 89.6993670886076\n",
            "82 89.6993670886076\n",
            "83 89.44936708860759\n",
            "84 89.6993670886076\n",
            "85 89.19620253164557\n",
            "86 89.6993670886076\n",
            "87 89.19620253164557\n",
            "88 89.44620253164557\n",
            "89 89.19620253164557\n",
            "90 89.44620253164557\n",
            "91 89.19620253164557\n",
            "92 89.44620253164557\n",
            "93 89.44620253164557\n",
            "94 89.44620253164557\n",
            "95 88.94620253164555\n",
            "96 89.44620253164557\n",
            "97 88.69303797468355\n",
            "98 88.69303797468355\n",
            "99 88.69303797468355\n",
            "100 88.94303797468355\n",
            "The optimal k value is:  10 . The maximum accuracy is:  93.46518987341771 %.\n"
          ],
          "name": "stdout"
        },
        {
          "output_type": "execute_result",
          "data": {
            "text/plain": [
              "Text(0.5, 1.0, 'Accuracy vs. Number of neighbors (without mean concave points)')"
            ]
          },
          "metadata": {
            "tags": []
          },
          "execution_count": 220
        },
        {
          "output_type": "display_data",
          "data": {
            "image/png": "[encoded data removed]",
            "text/plain": [
              "<Figure size 432x288 with 1 Axes>"
            ]
          },
          "metadata": {
            "tags": [],
            "needs_background": "light"
          }
        }
      ]
    },
    {
      "cell_type": "code",
      "metadata": {
        "id": "SxVtriY8RnIj",
        "outputId": "20858314-7521-484c-847e-d492c942002d",
        "colab": {
          "base_uri": "https://localhost:8080/",
          "height": 1000
        }
      },
      "source": [
        "#Drop fractal dimension error and worst concavity\n",
        "X_train_frac_con = X_train.drop(['fractal dimension error','concavity error'], axis=1)\n",
        "\n",
        "#Train\n",
        "acc_max_frac_con = 0\n",
        "k_max_frac_con = 0\n",
        "\n",
        " #for loop to sweep k from 1 to 100\n",
        "accuracy_frac_con = np.zeros(100)\n",
        "k = np.arange(1,101,1)\n",
        "\n",
        "for i in range (0,100):\n",
        "  knn = neighbors.KNeighborsClassifier(n_neighbors=i+1)\n",
        "  knn.fit(X_train_frac_con, y_train)\n",
        "  scores_frac_con = cross_val_score(knn, X_train_frac_con, y_train, cv=5)\n",
        "  accuracy_frac_con[i] = scores_frac_con.mean()*100\n",
        "  print(i+1, accuracy_frac_con[i])\n",
        "  if accuracy_frac_con[i] > acc_max_frac_con:\n",
        "    acc_max_frac_con = accuracy_frac_con[i]\n",
        "    k_max_frac_con = i+1\n",
        "\n",
        "#Print optimal k and maximum accuracy\n",
        "print(\"The optimal k value is: \", k_max_frac_con,\".\", \"The maximum accuracy is: \", acc_max_frac_con, \"%.\")\n",
        "\n",
        "#Plotting Accuracy vs. Number of neighbors\n",
        "plt.plot(k, accuracy_frac_con)\n",
        "plt.xlabel(\"Number of neighbors\")\n",
        "plt.ylabel(\"Accuracy (%)\")\n",
        "plt.title(\"Accuracy vs. Number of neighbors (without fractal dimension error and worst concavity)\")"
      ],
      "execution_count": null,
      "outputs": [
        {
          "output_type": "stream",
          "text": [
            "1 91.7120253164557\n",
            "2 91.70886075949367\n",
            "3 92.72151898734178\n",
            "4 92.71202531645571\n",
            "5 91.9620253164557\n",
            "6 92.46518987341773\n",
            "7 93.21518987341773\n",
            "8 93.21518987341773\n",
            "9 92.46202531645568\n",
            "10 93.46518987341771\n",
            "11 93.46518987341771\n",
            "12 93.2120253164557\n",
            "13 92.21518987341773\n",
            "14 92.96835443037976\n",
            "15 92.21518987341773\n",
            "16 92.46202531645568\n",
            "17 91.20569620253164\n",
            "18 91.95886075949367\n",
            "19 91.20886075949369\n",
            "20 91.45886075949366\n",
            "21 90.70253164556962\n",
            "22 90.95253164556961\n",
            "23 90.70569620253166\n",
            "24 90.70253164556961\n",
            "25 90.45253164556962\n",
            "26 90.95569620253163\n",
            "27 90.95569620253163\n",
            "28 90.95569620253163\n",
            "29 90.95569620253163\n",
            "30 90.95569620253163\n",
            "31 90.45569620253164\n",
            "32 90.70569620253166\n",
            "33 90.70569620253166\n",
            "34 90.95569620253166\n",
            "35 90.95569620253166\n",
            "36 90.70569620253164\n",
            "37 90.70569620253166\n",
            "38 90.95569620253166\n",
            "39 90.95569620253166\n",
            "40 90.95569620253166\n",
            "41 90.70569620253166\n",
            "42 90.95569620253166\n",
            "43 90.95569620253166\n",
            "44 90.95569620253166\n",
            "45 90.20569620253166\n",
            "46 90.70569620253166\n",
            "47 90.20253164556962\n",
            "48 90.95569620253166\n",
            "49 90.45569620253164\n",
            "50 90.70569620253164\n",
            "51 90.70886075949367\n",
            "52 90.70569620253166\n",
            "53 90.20253164556962\n",
            "54 90.20253164556962\n",
            "55 90.20253164556962\n",
            "56 90.20253164556962\n",
            "57 90.20569620253166\n",
            "58 90.20253164556962\n",
            "59 90.45569620253164\n",
            "60 90.45569620253164\n",
            "61 90.20569620253166\n",
            "62 90.20253164556962\n",
            "63 90.45569620253164\n",
            "64 90.45569620253164\n",
            "65 90.20253164556962\n",
            "66 90.45569620253164\n",
            "67 90.45569620253164\n",
            "68 90.45569620253164\n",
            "69 90.20253164556962\n",
            "70 90.45569620253164\n",
            "71 90.20253164556962\n",
            "72 90.20253164556962\n",
            "73 89.94936708860759\n",
            "74 89.94936708860759\n",
            "75 89.94936708860759\n",
            "76 89.94936708860759\n",
            "77 90.20253164556962\n",
            "78 90.20253164556962\n",
            "79 89.44936708860759\n",
            "80 89.6993670886076\n",
            "81 89.6993670886076\n",
            "82 89.6993670886076\n",
            "83 89.44936708860759\n",
            "84 89.6993670886076\n",
            "85 89.19620253164557\n",
            "86 89.6993670886076\n",
            "87 89.19620253164557\n",
            "88 89.44620253164557\n",
            "89 89.19620253164557\n",
            "90 89.44620253164557\n",
            "91 89.19620253164557\n",
            "92 89.44620253164557\n",
            "93 89.44620253164557\n",
            "94 89.44620253164557\n",
            "95 88.94620253164555\n",
            "96 89.44620253164557\n",
            "97 88.69303797468355\n",
            "98 88.69303797468355\n",
            "99 88.69303797468355\n",
            "100 88.94303797468355\n",
            "The optimal k value is:  10 . The maximum accuracy is:  93.46518987341771 %.\n"
          ],
          "name": "stdout"
        },
        {
          "output_type": "execute_result",
          "data": {
            "text/plain": [
              "Text(0.5, 1.0, 'Accuracy vs. Number of neighbors (without fractal dimension error and worst concavity)')"
            ]
          },
          "metadata": {
            "tags": []
          },
          "execution_count": 221
        },
        {
          "output_type": "display_data",
          "data": {
            "image/png": "[encoded data removed]",
            "text/plain": [
              "<Figure size 432x288 with 1 Axes>"
            ]
          },
          "metadata": {
            "tags": [],
            "needs_background": "light"
          }
        }
      ]
    },
    {
      "cell_type": "code",
      "metadata": {
        "id": "q3R3F-NFWsNg",
        "outputId": "8c0c7b6e-2ce9-4a0d-db8c-472bccc3a9ac",
        "colab": {
          "base_uri": "https://localhost:8080/",
          "height": 1000
        }
      },
      "source": [
        "#Drop mean texture, mean area and mean compactness\n",
        "X_train_tex_area_com = X_train.drop(['mean texture','mean area','mean compactness'], axis=1)\n",
        "\n",
        "#Train\n",
        "acc_max_tex_area_com = 0\n",
        "k_max_tex_area_com = 0\n",
        "\n",
        " #for loop to sweep k from 1 to 100\n",
        "accuracy_tex_area_com = np.zeros(100)\n",
        "k = np.arange(1,101,1)\n",
        "\n",
        "for i in range (0,100):\n",
        "  knn = neighbors.KNeighborsClassifier(n_neighbors=i+1)\n",
        "  knn.fit(X_train_tex_area_com, y_train)\n",
        "  scores_tex_area_com = cross_val_score(knn, X_train_tex_area_com, y_train, cv=5)\n",
        "  accuracy_tex_area_com[i] = scores_tex_area_com.mean()*100\n",
        "  print(i+1, accuracy_tex_area_com[i])\n",
        "  if accuracy_tex_area_com[i] > acc_max_tex_area_com:\n",
        "    acc_max_tex_area_com = accuracy_tex_area_com[i]\n",
        "    k_max_tex_area_com = i+1\n",
        "\n",
        "#Print optimal k and maximum accuracy\n",
        "print(\"The optimal k value is: \", k_max_tex_area_com,\".\", \"The maximum accuracy is: \", acc_max_tex_area_com, \"%.\")\n",
        "\n",
        "#Plotting Accuracy vs. Number of neighbors\n",
        "plt.plot(k, accuracy_tex_area_com)\n",
        "plt.xlabel(\"Number of neighbors\")\n",
        "plt.ylabel(\"Accuracy (%)\")\n",
        "plt.title(\"Accuracy vs. Number of neighbors (without mean texture, mean area and mean compactness)\")"
      ],
      "execution_count": null,
      "outputs": [
        {
          "output_type": "stream",
          "text": [
            "1 89.44303797468353\n",
            "2 88.18987341772151\n",
            "3 89.44620253164557\n",
            "4 89.18037974683544\n",
            "5 90.43987341772151\n",
            "6 89.69303797468355\n",
            "7 89.69303797468355\n",
            "8 89.94303797468355\n",
            "9 89.69303797468355\n",
            "10 90.19620253164558\n",
            "11 89.94303797468355\n",
            "12 89.18987341772151\n",
            "13 89.94620253164557\n",
            "14 89.94303797468355\n",
            "15 89.69303797468355\n",
            "16 89.94303797468355\n",
            "17 90.45253164556962\n",
            "18 89.69303797468355\n",
            "19 90.45253164556962\n",
            "20 90.70253164556962\n",
            "21 90.45253164556962\n",
            "22 91.20569620253164\n",
            "23 90.70569620253166\n",
            "24 90.70253164556962\n",
            "25 90.95569620253166\n",
            "26 90.70253164556962\n",
            "27 90.95569620253166\n",
            "28 90.95569620253166\n",
            "29 90.95569620253166\n",
            "30 90.70253164556962\n",
            "31 90.70253164556962\n",
            "32 90.95569620253166\n",
            "33 91.20886075949369\n",
            "34 91.45886075949366\n",
            "35 90.95569620253166\n",
            "36 90.95569620253166\n",
            "37 90.95569620253166\n",
            "38 90.95569620253166\n",
            "39 90.95569620253166\n",
            "40 90.95569620253166\n",
            "41 90.95569620253166\n",
            "42 90.4493670886076\n",
            "43 90.95569620253166\n",
            "44 90.95569620253166\n",
            "45 90.95569620253166\n",
            "46 91.20569620253164\n",
            "47 91.20569620253164\n",
            "48 91.20569620253164\n",
            "49 90.95569620253166\n",
            "50 90.70253164556962\n",
            "51 90.45253164556962\n",
            "52 90.45253164556962\n",
            "53 90.45253164556962\n",
            "54 90.70253164556962\n",
            "55 90.70253164556962\n",
            "56 90.95253164556961\n",
            "57 90.70253164556962\n",
            "58 90.95253164556961\n",
            "59 91.20569620253164\n",
            "60 90.70253164556962\n",
            "61 91.45569620253164\n",
            "62 91.45569620253164\n",
            "63 91.20569620253164\n",
            "64 91.45569620253164\n",
            "65 90.70569620253166\n",
            "66 91.20569620253164\n",
            "67 90.70569620253166\n",
            "68 90.70569620253166\n",
            "69 90.70886075949367\n",
            "70 90.95886075949366\n",
            "71 90.45886075949367\n",
            "72 90.70886075949367\n",
            "73 90.70886075949367\n",
            "74 90.45886075949367\n",
            "75 89.95253164556962\n",
            "76 90.20569620253166\n",
            "77 90.19936708860759\n",
            "78 90.19936708860759\n",
            "79 90.19936708860759\n",
            "80 90.19936708860759\n",
            "81 90.45253164556961\n",
            "82 90.19936708860759\n",
            "83 90.20253164556962\n",
            "84 90.20253164556962\n",
            "85 90.20253164556962\n",
            "86 90.20253164556962\n",
            "87 90.20253164556962\n",
            "88 90.20253164556962\n",
            "89 90.20253164556962\n",
            "90 90.20253164556962\n",
            "91 90.20253164556962\n",
            "92 90.20253164556962\n",
            "93 90.20253164556962\n",
            "94 90.20253164556962\n",
            "95 90.20253164556962\n",
            "96 90.20253164556962\n",
            "97 90.20253164556962\n",
            "98 90.20253164556962\n",
            "99 89.94936708860759\n",
            "100 90.20253164556962\n",
            "The optimal k value is:  34 . The maximum accuracy is:  91.45886075949366 %.\n"
          ],
          "name": "stdout"
        },
        {
          "output_type": "execute_result",
          "data": {
            "text/plain": [
              "Text(0.5, 1.0, 'Accuracy vs. Number of neighbors (without mean texture, mean area and mean compactness)')"
            ]
          },
          "metadata": {
            "tags": []
          },
          "execution_count": 222
        },
        {
          "output_type": "display_data",
          "data": {
            "image/png": "[encoded data removed]",
            "text/plain": [
              "<Figure size 432x288 with 1 Axes>"
            ]
          },
          "metadata": {
            "tags": [],
            "needs_background": "light"
          }
        }
      ]
    },
    {
      "cell_type": "code",
      "metadata": {
        "id": "Ttp21AxoaTLO",
        "outputId": "f10f9d61-c111-451f-b148-18ff7ccb0c4c",
        "colab": {
          "base_uri": "https://localhost:8080/",
          "height": 1000
        }
      },
      "source": [
        "#Drop worst smoothness, worst compactness, worst symmetry, worst area\n",
        "X_train_scsa = X_train.drop(['worst smoothness','worst compactness','worst symmetry','worst area'], axis=1)\n",
        "\n",
        "#Train\n",
        "acc_max_scsa= 0\n",
        "k_max_scsa = 0\n",
        "\n",
        " #for loop to sweep k from 1 to 100\n",
        "accuracy_scsa = np.zeros(100)\n",
        "k = np.arange(1,101,1)\n",
        "\n",
        "for i in range (0,100):\n",
        "  knn = neighbors.KNeighborsClassifier(n_neighbors=i+1)\n",
        "  knn.fit(X_train_scsa, y_train)\n",
        "  scores_scsa = cross_val_score(knn, X_train_scsa, y_train, cv=5)\n",
        "  accuracy_scsa[i] = scores_scsa.mean()*100\n",
        "  print(i+1, accuracy_scsa[i])\n",
        "  if accuracy_scsa[i] > acc_max_scsa:\n",
        "    acc_max_scsa = accuracy_scsa[i]\n",
        "    k_max_scsa = i+1\n",
        "\n",
        "#Print optimal k and maximum accuracy\n",
        "print(\"The optimal k value is: \", k_max_scsa,\".\", \"The maximum accuracy is: \", acc_max_scsa, \"%.\")\n",
        "\n",
        "#Plotting Accuracy vs. Number of neighbors\n",
        "plt.plot(k, accuracy_scsa)\n",
        "plt.xlabel(\"Number of neighbors\")\n",
        "plt.ylabel(\"Accuracy (%)\")\n",
        "plt.title(\"Accuracy vs. Number of neighbors (without worst smoothness, worst area, worst compactness and worst symmetry)\")"
      ],
      "execution_count": null,
      "outputs": [
        {
          "output_type": "stream",
          "text": [
            "1 92.21202531645571\n",
            "2 90.45886075949367\n",
            "3 91.21518987341773\n",
            "4 91.2120253164557\n",
            "5 90.2120253164557\n",
            "6 90.95569620253166\n",
            "7 89.20253164556962\n",
            "8 90.21518987341771\n",
            "9 88.70253164556962\n",
            "10 89.45569620253163\n",
            "11 88.6993670886076\n",
            "12 89.20569620253164\n",
            "13 88.95253164556962\n",
            "14 88.94936708860757\n",
            "15 88.94936708860757\n",
            "16 89.45253164556961\n",
            "17 88.94936708860757\n",
            "18 89.1993670886076\n",
            "19 88.19620253164558\n",
            "20 88.44936708860762\n",
            "21 87.94303797468356\n",
            "22 88.44936708860759\n",
            "23 88.19620253164558\n",
            "24 88.19620253164558\n",
            "25 88.19620253164558\n",
            "26 88.19620253164558\n",
            "27 87.94620253164555\n",
            "28 87.94620253164555\n",
            "29 88.19936708860759\n",
            "30 88.19936708860759\n",
            "31 87.94620253164555\n",
            "32 88.95253164556962\n",
            "33 88.45253164556961\n",
            "34 88.70253164556962\n",
            "35 88.19936708860759\n",
            "36 88.44620253164557\n",
            "37 88.44936708860759\n",
            "38 88.19620253164558\n",
            "39 87.69303797468355\n",
            "40 88.19303797468353\n",
            "41 87.94303797468356\n",
            "42 88.44303797468355\n",
            "43 87.94303797468356\n",
            "44 88.19303797468356\n",
            "45 88.44936708860759\n",
            "46 88.19303797468353\n",
            "47 88.44620253164557\n",
            "48 88.18987341772151\n",
            "49 88.69620253164555\n",
            "50 88.69620253164555\n",
            "51 88.19936708860759\n",
            "52 88.19620253164558\n",
            "53 87.94620253164555\n",
            "54 88.44620253164557\n",
            "55 88.19620253164558\n",
            "56 88.19620253164558\n",
            "57 88.19620253164558\n",
            "58 88.19620253164558\n",
            "59 88.19620253164558\n",
            "60 88.19620253164558\n",
            "61 87.94620253164555\n",
            "62 88.19620253164558\n",
            "63 88.19620253164558\n",
            "64 88.44936708860759\n",
            "65 88.19620253164557\n",
            "66 88.44936708860759\n",
            "67 87.44303797468353\n",
            "68 87.44303797468353\n",
            "69 87.18987341772151\n",
            "70 87.18987341772151\n",
            "71 86.68354430379746\n",
            "72 86.9367088607595\n",
            "73 87.1867088607595\n",
            "74 87.1867088607595\n",
            "75 86.93354430379748\n",
            "76 86.93354430379748\n",
            "77 86.93354430379748\n",
            "78 86.93354430379748\n",
            "79 86.68354430379746\n",
            "80 86.68354430379746\n",
            "81 86.68354430379746\n",
            "82 86.68354430379746\n",
            "83 86.68354430379746\n",
            "84 86.68354430379746\n",
            "85 86.43037974683544\n",
            "86 86.43037974683544\n",
            "87 86.43037974683544\n",
            "88 86.43037974683544\n",
            "89 86.43037974683544\n",
            "90 86.43037974683544\n",
            "91 86.43037974683544\n",
            "92 86.43037974683544\n",
            "93 86.43037974683544\n",
            "94 86.43037974683544\n",
            "95 86.43037974683544\n",
            "96 86.68354430379746\n",
            "97 86.43037974683544\n",
            "98 86.43037974683544\n",
            "99 86.43037974683544\n",
            "100 86.68037974683544\n",
            "The optimal k value is:  1 . The maximum accuracy is:  92.21202531645571 %.\n"
          ],
          "name": "stdout"
        },
        {
          "output_type": "execute_result",
          "data": {
            "text/plain": [
              "Text(0.5, 1.0, 'Accuracy vs. Number of neighbors (without worst smoothness, worst area, worst compactness and worst symmetry)')"
            ]
          },
          "metadata": {
            "tags": []
          },
          "execution_count": 223
        },
        {
          "output_type": "display_data",
          "data": {
            "image/png": "[encoded data removed]",
            "text/plain": [
              "<Figure size 432x288 with 1 Axes>"
            ]
          },
          "metadata": {
            "tags": [],
            "needs_background": "light"
          }
        }
      ]
    },
    {
      "cell_type": "markdown",
      "metadata": {
        "id": "GTXjb1sWmDZL"
      },
      "source": [
        "## Part 3: Standardization [2 Marks]\n",
        "\n",
        "Standardizing the data usually means scaling our data to have a mean of zero and a standard deviation of one. \n",
        "\n",
        "Note: When we standardize a dataset, do we care if the data points are in our training set or test set? Yes! The training set is available for us to train a model - we can use it however we want. The test set, however, represents a subset of data that is not available for us during training. For example, the test set can represent the data that someone who bought our model would use to see how the model performs (which they are not willing to share with us).\n",
        "Therefore, we cannot compute the mean or standard deviation of the whole dataset to standardize it - we can only calculate the mean and standard deviation of the training set. However, when we sell a model to someone, we can say what our scalers (mean and standard deviation of our training set) was. They can scale their data (test set) with our training set's mean and standard deviation. Of course, there is no guarantee that the test set would have a mean of zero and a standard deviation of one, but it should work fine.\n",
        "\n",
        "**To summarize: We fit the StandardScaler only on the training set. We transform both training and test sets with that scaler.**\n",
        "\n",
        "1. Create a KNN classifier with standardized data ([Help](https://scikit-learn.org/stable/modules/preprocessing.html)), and reproduce all steps in Part 2. **[1]**\n",
        "\n"
      ]
    },
    {
      "cell_type": "code",
      "metadata": {
        "id": "feNi-iOeII-v",
        "outputId": "10353c04-bb62-4c47-8511-57976ecae7de",
        "colab": {
          "base_uri": "https://localhost:8080/",
          "height": 187
        }
      },
      "source": [
        "table2 = PrettyTable()\n",
        "\n",
        "table2.field_names = [\"Removed Feature(s)\", \"Optimal k\", \"Maximum Training Accuracy (%)\"]\n",
        "table2.add_row([\"None\", 10, 96.74])\n",
        "table2.add_row([\"Texture Error, Compactness Error\", 8, 96.74])\n",
        "table2.add_row([\"Worst Smoothness, Worst Compactness, Worst Area\", 10, 96.49])\n",
        "table2.add_row([\"Radius Error, Area error, Smoothness Error\", 8, 96.74])\n",
        "table2.add_row([\"Texture Error, Compactness Error, Concavity Error, Concave Points Error\", 8, 96.74])\n",
        "table2.add_row([\"Texture Error, Compactness error, Concavity error, Fractal Dimension Error\", 10, 96.74])\n",
        "\n",
        "print(table2)"
      ],
      "execution_count": null,
      "outputs": [
        {
          "output_type": "stream",
          "text": [
            "+----------------------------------------------------------------------------+-----------+-------------------------------+\n",
            "|                             Removed Feature(s)                             | Optimal k | Maximum Training Accuracy (%) |\n",
            "+----------------------------------------------------------------------------+-----------+-------------------------------+\n",
            "|                                    None                                    |     10    |             96.74             |\n",
            "|                      Texture Error, Compactness Error                      |     8     |             96.74             |\n",
            "|              Worst Smoothness, Worst Compactness, Worst Area               |     10    |             96.49             |\n",
            "|                 Radius Error, Area error, Smoothness Error                 |     8     |             96.74             |\n",
            "|  Texture Error, Compactness Error, Concavity Error, Concave Points Error   |     8     |             96.74             |\n",
            "| Texture Error, Compactness error, Concavity error, Fractal Dimension Error |     10    |             96.74             |\n",
            "+----------------------------------------------------------------------------+-----------+-------------------------------+\n"
          ],
          "name": "stdout"
        }
      ]
    },
    {
      "cell_type": "code",
      "metadata": {
        "id": "xAwAGR6_2bu3"
      },
      "source": [
        "#Standardizing the entire training dataset\n",
        "scaled_X_train = StandardScaler().fit_transform(X_train)\n",
        "df_sd_train = pd.DataFrame(scaled_X_train, columns=dataset['feature_names'])\n",
        "\n",
        "\n",
        "#Standardizing the entire testing dataset\n",
        "scaler = StandardScaler().fit(X_train)\n",
        "scaled_X_test = scaler.transform(X_test)\n",
        "df_sd_test =  pd.DataFrame(scaled_X_test, columns=dataset['feature_names'])\n"
      ],
      "execution_count": null,
      "outputs": []
    },
    {
      "cell_type": "code",
      "metadata": {
        "id": "Nrn3NyYz7-Ne",
        "outputId": "4b313c3f-0318-4858-f902-b200bb3953bc",
        "colab": {
          "base_uri": "https://localhost:8080/",
          "height": 1000
        }
      },
      "source": [
        "acc_max_pt3 = 0\n",
        "k_max3_pt3 = 0\n",
        "accuracy_pt3 = np.zeros(100)\n",
        "\n",
        "#for loop to sweep k from 1 to 100\n",
        "\n",
        "k = np.arange(1,101,1)\n",
        "for i in range (0,100):\n",
        "  knn_sd = neighbors.KNeighborsClassifier(n_neighbors=i+1)\n",
        "  knn_sd.fit(scaled_X_train, y_train)\n",
        "  scores_pt3 = cross_val_score(knn_sd, scaled_X_train, y_train, cv=5)\n",
        "  accuracy_pt3[i] = scores_pt3.mean()*100\n",
        "  print(i+1, accuracy_pt3[i])\n",
        "  if accuracy_pt3[i] > acc_max_pt3:\n",
        "    acc_max_pt3 = accuracy_pt3[i]\n",
        "    k_max_pt3 = i+1\n",
        "\n",
        "print(\"The optimal k value is: \", k_max_pt3,\".\", \"The maximum accuracy is: \", acc_max_pt3, \"%.\")\n",
        "\n",
        "#Plotting Accuracy vs. Number of neighbors\n",
        "plt.plot(k, accuracy_pt3)\n",
        "plt.xlabel(\"Number of neighbors\")\n",
        "plt.ylabel(\"Accuracy (%)\")\n",
        "plt.title(\"Accuracy vs. Number of neighbors\")\n"
      ],
      "execution_count": null,
      "outputs": [
        {
          "output_type": "stream",
          "text": [
            "1 95.22468354430377\n",
            "2 94.4746835443038\n",
            "3 96.23734177215188\n",
            "4 96.23734177215188\n",
            "5 95.22784810126582\n",
            "6 95.48101265822785\n",
            "7 96.49367088607596\n",
            "8 96.49367088607596\n",
            "9 95.98417721518986\n",
            "10 96.74367088607593\n",
            "11 96.49050632911391\n",
            "12 96.24050632911393\n",
            "13 95.99050632911393\n",
            "14 96.24050632911393\n",
            "15 95.48417721518987\n",
            "16 95.23417721518987\n",
            "17 94.98417721518987\n",
            "18 95.23417721518987\n",
            "19 94.73101265822784\n",
            "20 94.98101265822785\n",
            "21 94.98101265822785\n",
            "22 95.23417721518987\n",
            "23 94.98417721518987\n",
            "24 94.98417721518987\n",
            "25 95.23417721518987\n",
            "26 95.2373417721519\n",
            "27 94.2278481012658\n",
            "28 95.48734177215191\n",
            "29 94.73101265822784\n",
            "30 95.2373417721519\n",
            "31 94.22468354430379\n",
            "32 94.73101265822784\n",
            "33 94.72784810126582\n",
            "34 94.73101265822784\n",
            "35 94.47784810126582\n",
            "36 94.98417721518987\n",
            "37 94.72784810126582\n",
            "38 94.47784810126582\n",
            "39 94.4746835443038\n",
            "40 94.72784810126582\n",
            "41 94.22151898734178\n",
            "42 94.22151898734178\n",
            "43 93.97151898734177\n",
            "44 93.97151898734177\n",
            "45 93.97151898734177\n",
            "46 93.97151898734177\n",
            "47 93.97151898734177\n",
            "48 93.97151898734177\n",
            "49 93.72151898734178\n",
            "50 93.97151898734177\n",
            "51 93.97151898734177\n",
            "52 93.97151898734177\n",
            "53 93.21835443037972\n",
            "54 93.21835443037972\n",
            "55 93.21835443037972\n",
            "56 93.21835443037972\n",
            "57 93.21835443037972\n",
            "58 92.96835443037975\n",
            "59 92.71518987341771\n",
            "60 92.71518987341771\n",
            "61 92.71518987341771\n",
            "62 92.46518987341773\n",
            "63 92.71518987341771\n",
            "64 92.71518987341774\n",
            "65 92.46518987341773\n",
            "66 92.71835443037976\n",
            "67 91.96835443037976\n",
            "68 92.21835443037975\n",
            "69 91.7120253164557\n",
            "70 91.9620253164557\n",
            "71 91.7120253164557\n",
            "72 91.9620253164557\n",
            "73 91.45886075949369\n",
            "74 91.45886075949369\n",
            "75 91.45886075949369\n",
            "76 91.96518987341771\n",
            "77 91.7120253164557\n",
            "78 91.7120253164557\n",
            "79 91.20569620253164\n",
            "80 91.20569620253164\n",
            "81 90.95569620253166\n",
            "82 91.20569620253164\n",
            "83 90.95569620253166\n",
            "84 90.95569620253166\n",
            "85 90.95569620253166\n",
            "86 91.20886075949369\n",
            "87 90.70569620253164\n",
            "88 90.95569620253166\n",
            "89 90.70569620253164\n",
            "90 90.95569620253166\n",
            "91 90.70569620253164\n",
            "92 90.70569620253164\n",
            "93 90.45569620253164\n",
            "94 90.70569620253164\n",
            "95 90.45253164556962\n",
            "96 90.95569620253166\n",
            "97 90.70253164556962\n",
            "98 90.95569620253166\n",
            "99 90.70569620253164\n",
            "100 90.95569620253166\n",
            "The optimal k value is:  10 . The maximum accuracy is:  96.74367088607593 %.\n"
          ],
          "name": "stdout"
        },
        {
          "output_type": "execute_result",
          "data": {
            "text/plain": [
              "Text(0.5, 1.0, 'Accuracy vs. Number of neighbors')"
            ]
          },
          "metadata": {
            "tags": []
          },
          "execution_count": 226
        },
        {
          "output_type": "display_data",
          "data": {
            "image/png": "[encoded data removed]",
            "text/plain": [
              "<Figure size 432x288 with 1 Axes>"
            ]
          },
          "metadata": {
            "tags": [],
            "needs_background": "light"
          }
        }
      ]
    },
    {
      "cell_type": "code",
      "metadata": {
        "id": "Iy_VXwuclmy6",
        "outputId": "882c3fc1-a648-4fa4-a538-397eea99a93d",
        "colab": {
          "base_uri": "https://localhost:8080/",
          "height": 1000
        }
      },
      "source": [
        "#Drop texture error, compactness error\n",
        "scaled_X_train_tc = np.delete(scaled_X_train, [11,15], axis=1)\n",
        "\n",
        "#Train\n",
        "acc_max_tc= 0\n",
        "k_max_tc = 0\n",
        "\n",
        " #for loop to sweep k from 1 to 100\n",
        "accuracy_tc = np.zeros(100)\n",
        "k = np.arange(1,101,1)\n",
        "\n",
        "for i in range (0,100):\n",
        "  knn = neighbors.KNeighborsClassifier(n_neighbors=i+1)\n",
        "  knn.fit(scaled_X_train_tc, y_train)\n",
        "  scores_tc = cross_val_score(knn, scaled_X_train_tc, y_train, cv=5)\n",
        "  accuracy_tc[i] = scores_tc.mean()*100\n",
        "  print(i+1, accuracy_tc[i])\n",
        "  if accuracy_tc[i] > acc_max_tc:\n",
        "    acc_max_tc = accuracy_tc[i]\n",
        "    k_max_tc = i+1\n",
        "\n",
        "#Print optimal k and maximum accuracy\n",
        "print(\"The optimal k value is: \", k_max_tc,\".\", \"The maximum accuracy is: \", acc_max_tc, \"%.\")\n",
        "\n",
        "#Plotting Accuracy vs. Number of neighbors\n",
        "plt.plot(k, accuracy_tc)\n",
        "plt.xlabel(\"Number of neighbors\")\n",
        "plt.ylabel(\"Accuracy (%)\")\n",
        "plt.title(\"Accuracy vs. Number of neighbors (without worst smoothness, worst area, worst compactness and worst symmetry)\")"
      ],
      "execution_count": null,
      "outputs": [
        {
          "output_type": "stream",
          "text": [
            "1 94.72151898734177\n",
            "2 94.72784810126582\n",
            "3 96.74050632911391\n",
            "4 96.74050632911391\n",
            "5 96.24050632911393\n",
            "6 96.24050632911393\n",
            "7 96.24050632911393\n",
            "8 96.74683544303797\n",
            "9 96.49050632911391\n",
            "10 96.74683544303797\n",
            "11 96.74367088607593\n",
            "12 96.49367088607596\n",
            "13 96.24050632911393\n",
            "14 96.24050632911393\n",
            "15 95.98734177215191\n",
            "16 95.99050632911393\n",
            "17 95.7373417721519\n",
            "18 95.99050632911393\n",
            "19 95.7373417721519\n",
            "20 95.7373417721519\n",
            "21 95.7373417721519\n",
            "22 95.7373417721519\n",
            "23 95.2373417721519\n",
            "24 95.99050632911393\n",
            "25 94.98417721518987\n",
            "26 95.23417721518987\n",
            "27 94.98417721518987\n",
            "28 95.48734177215191\n",
            "29 94.73417721518986\n",
            "30 95.2373417721519\n",
            "31 94.98417721518987\n",
            "32 94.98417721518987\n",
            "33 94.98417721518987\n",
            "34 95.2373417721519\n",
            "35 95.2373417721519\n",
            "36 95.2373417721519\n",
            "37 95.2373417721519\n",
            "38 95.2373417721519\n",
            "39 95.2373417721519\n",
            "40 95.2373417721519\n",
            "41 94.98417721518987\n",
            "42 95.2373417721519\n",
            "43 94.98101265822785\n",
            "44 95.48734177215191\n",
            "45 94.72468354430379\n",
            "46 94.72784810126582\n",
            "47 94.4746835443038\n",
            "48 94.22468354430379\n",
            "49 94.22468354430379\n",
            "50 94.22468354430379\n",
            "51 93.97468354430379\n",
            "52 93.97468354430379\n",
            "53 94.22468354430379\n",
            "54 94.22468354430379\n",
            "55 93.72151898734175\n",
            "56 93.97151898734177\n",
            "57 93.72151898734175\n",
            "58 93.72151898734175\n",
            "59 93.72151898734175\n",
            "60 93.72151898734175\n",
            "61 93.21835443037972\n",
            "62 93.21835443037972\n",
            "63 93.21835443037972\n",
            "64 93.21835443037972\n",
            "65 93.21835443037972\n",
            "66 93.46835443037975\n",
            "67 92.46202531645568\n",
            "68 92.71518987341771\n",
            "69 91.9620253164557\n",
            "70 92.2151898734177\n",
            "71 91.70886075949367\n",
            "72 91.70886075949367\n",
            "73 91.70886075949367\n",
            "74 91.70886075949367\n",
            "75 91.70886075949367\n",
            "76 91.9620253164557\n",
            "77 91.9620253164557\n",
            "78 91.9620253164557\n",
            "79 91.20569620253166\n",
            "80 91.70886075949367\n",
            "81 90.95253164556964\n",
            "82 91.45569620253164\n",
            "83 91.20569620253164\n",
            "84 91.20569620253164\n",
            "85 90.95569620253166\n",
            "86 90.95569620253166\n",
            "87 90.95569620253166\n",
            "88 90.95569620253166\n",
            "89 90.95569620253166\n",
            "90 90.95569620253166\n",
            "91 90.70569620253164\n",
            "92 90.95569620253166\n",
            "93 90.45569620253164\n",
            "94 90.45569620253164\n",
            "95 90.45569620253164\n",
            "96 90.45569620253164\n",
            "97 90.45569620253164\n",
            "98 90.45569620253164\n",
            "99 90.45569620253164\n",
            "100 90.45569620253164\n",
            "The optimal k value is:  8 . The maximum accuracy is:  96.74683544303797 %.\n"
          ],
          "name": "stdout"
        },
        {
          "output_type": "execute_result",
          "data": {
            "text/plain": [
              "Text(0.5, 1.0, 'Accuracy vs. Number of neighbors (without worst smoothness, worst area, worst compactness and worst symmetry)')"
            ]
          },
          "metadata": {
            "tags": []
          },
          "execution_count": 227
        },
        {
          "output_type": "display_data",
          "data": {
            "image/png": "[encoded data removed]",
            "text/plain": [
              "<Figure size 432x288 with 1 Axes>"
            ]
          },
          "metadata": {
            "tags": [],
            "needs_background": "light"
          }
        }
      ]
    },
    {
      "cell_type": "code",
      "metadata": {
        "id": "ohxa8hghppjS",
        "outputId": "cc00c9dc-1880-4b35-bdbb-d88eff616881",
        "colab": {
          "base_uri": "https://localhost:8080/",
          "height": 1000
        }
      },
      "source": [
        "#Drop worst smoothness, worst compactness, worst area\n",
        "scaled_X_train_scsa = np.delete(scaled_X_train, [23,24,25], axis=1)\n",
        "\n",
        "\n",
        "#Train\n",
        "acc_max_scsa= 0\n",
        "k_max_scsa = 0\n",
        "\n",
        " #for loop to sweep k from 1 to 100\n",
        "accuracy_scsa = np.zeros(100)\n",
        "k = np.arange(1,101,1)\n",
        "\n",
        "for i in range (0,100):\n",
        "  knn = neighbors.KNeighborsClassifier(n_neighbors=i+1)\n",
        "  knn.fit(scaled_X_train_scsa, y_train)\n",
        "  scores_scsa = cross_val_score(knn, scaled_X_train_scsa, y_train, cv=5)\n",
        "  accuracy_scsa[i] = scores_scsa.mean()*100\n",
        "  print(i+1, accuracy_scsa[i])\n",
        "  if accuracy_scsa[i] > acc_max_scsa:\n",
        "    acc_max_scsa = accuracy_scsa[i]\n",
        "    k_max_scsa = i+1\n",
        "\n",
        "#Print optimal k and maximum accuracy\n",
        "print(\"The optimal k value is: \", k_max_scsa,\".\", \"The maximum accuracy is: \", acc_max_scsa, \"%.\")\n",
        "\n",
        "#Plotting Accuracy vs. Number of neighbors\n",
        "plt.plot(k, accuracy_scsa)\n",
        "plt.xlabel(\"Number of neighbors\")\n",
        "plt.ylabel(\"Accuracy (%)\")\n",
        "plt.title(\"Accuracy vs. Number of neighbors (without worst smoothness, worst area, worst compactness and worst symmetry)\")"
      ],
      "execution_count": null,
      "outputs": [
        {
          "output_type": "stream",
          "text": [
            "1 95.48101265822785\n",
            "2 94.47784810126582\n",
            "3 95.74050632911393\n",
            "4 95.23101265822784\n",
            "5 95.98734177215191\n",
            "6 95.48417721518987\n",
            "7 95.98734177215191\n",
            "8 95.9873417721519\n",
            "9 96.23734177215188\n",
            "10 96.49367088607596\n",
            "11 96.49367088607596\n",
            "12 96.49367088607596\n",
            "13 95.48734177215191\n",
            "14 95.48734177215191\n",
            "15 95.23417721518987\n",
            "16 95.99050632911393\n",
            "17 95.99367088607596\n",
            "18 95.99367088607596\n",
            "19 95.2373417721519\n",
            "20 95.74050632911393\n",
            "21 95.48734177215191\n",
            "22 95.48734177215191\n",
            "23 95.48734177215191\n",
            "24 95.74050632911393\n",
            "25 95.48734177215191\n",
            "26 95.74050632911393\n",
            "27 95.48734177215191\n",
            "28 95.48734177215191\n",
            "29 95.48734177215191\n",
            "30 95.48734177215191\n",
            "31 95.48734177215191\n",
            "32 95.74050632911393\n",
            "33 95.48734177215191\n",
            "34 95.74050632911393\n",
            "35 95.7373417721519\n",
            "36 95.48734177215191\n",
            "37 95.7373417721519\n",
            "38 95.7373417721519\n",
            "39 94.97784810126582\n",
            "40 94.97784810126582\n",
            "41 94.97784810126582\n",
            "42 94.97784810126582\n",
            "43 94.72468354430379\n",
            "44 94.97784810126582\n",
            "45 94.4746835443038\n",
            "46 94.72468354430379\n",
            "47 94.47151898734177\n",
            "48 94.47151898734177\n",
            "49 93.97151898734177\n",
            "50 94.22151898734178\n",
            "51 94.47151898734177\n",
            "52 94.22151898734178\n",
            "53 93.46835443037975\n",
            "54 93.96835443037975\n",
            "55 93.46835443037975\n",
            "56 93.46835443037975\n",
            "57 93.21835443037975\n",
            "58 93.21835443037975\n",
            "59 92.71835443037976\n",
            "60 92.96835443037976\n",
            "61 92.71835443037976\n",
            "62 92.96835443037975\n",
            "63 92.46835443037975\n",
            "64 92.46835443037975\n",
            "65 92.46835443037975\n",
            "66 92.21835443037975\n",
            "67 92.46835443037975\n",
            "68 91.96835443037973\n",
            "69 91.71518987341771\n",
            "70 91.96835443037973\n",
            "71 92.21518987341773\n",
            "72 92.21835443037975\n",
            "73 91.7120253164557\n",
            "74 91.71518987341771\n",
            "75 91.7120253164557\n",
            "76 91.7120253164557\n",
            "77 90.95886075949366\n",
            "78 91.20886075949369\n",
            "79 90.95886075949366\n",
            "80 90.95886075949366\n",
            "81 90.70569620253164\n",
            "82 90.70569620253164\n",
            "83 90.70569620253164\n",
            "84 90.45569620253164\n",
            "85 90.70569620253164\n",
            "86 90.45569620253164\n",
            "87 90.45569620253164\n",
            "88 90.45569620253164\n",
            "89 90.70569620253164\n",
            "90 90.45569620253164\n",
            "91 90.70569620253164\n",
            "92 90.45569620253164\n",
            "93 90.70569620253164\n",
            "94 90.45569620253164\n",
            "95 90.70569620253164\n",
            "96 90.70569620253164\n",
            "97 90.70569620253164\n",
            "98 90.70569620253164\n",
            "99 90.70569620253164\n",
            "100 90.70569620253164\n",
            "The optimal k value is:  10 . The maximum accuracy is:  96.49367088607596 %.\n"
          ],
          "name": "stdout"
        },
        {
          "output_type": "execute_result",
          "data": {
            "text/plain": [
              "Text(0.5, 1.0, 'Accuracy vs. Number of neighbors (without worst smoothness, worst area, worst compactness and worst symmetry)')"
            ]
          },
          "metadata": {
            "tags": []
          },
          "execution_count": 228
        },
        {
          "output_type": "display_data",
          "data": {
            "image/png": "[encoded data removed]",
            "text/plain": [
              "<Figure size 432x288 with 1 Axes>"
            ]
          },
          "metadata": {
            "tags": [],
            "needs_background": "light"
          }
        }
      ]
    },
    {
      "cell_type": "code",
      "metadata": {
        "id": "yeXKwGB5sEy0",
        "outputId": "08c32a0c-61ae-4af7-bc8d-93e81d73c904",
        "colab": {
          "base_uri": "https://localhost:8080/",
          "height": 1000
        }
      },
      "source": [
        "#Drop radius error, area error, smoothness error\n",
        "scaled_X_train_ras = np.delete(scaled_X_train, [10,13,14], axis=1)\n",
        "#print(scaled_X_train_tcc.shape)\n",
        "\n",
        "#Train\n",
        "acc_max_ras= 0\n",
        "k_max_ras = 0\n",
        "\n",
        " #for loop to sweep k from 1 to 100\n",
        "accuracy_ras = np.zeros(100)\n",
        "k = np.arange(1,101,1)\n",
        "\n",
        "for i in range (0,100):\n",
        "  knn = neighbors.KNeighborsClassifier(n_neighbors=i+1)\n",
        "  knn.fit(scaled_X_train_ras, y_train)\n",
        "  scores_ras = cross_val_score(knn, scaled_X_train_ras, y_train, cv=5)\n",
        "  accuracy_ras[i] = scores_ras.mean()*100\n",
        "  print(i+1, accuracy_ras[i])\n",
        "  if accuracy_ras[i] > acc_max_ras:\n",
        "    acc_max_ras = accuracy_ras[i]\n",
        "    k_max_ras = i+1\n",
        "\n",
        "#Print optimal k and maximum accuracy\n",
        "print(\"The optimal k value is: \", k_max_ras,\".\", \"The maximum accuracy is: \", acc_max_ras, \"%.\")\n",
        "\n",
        "#Plotting Accuracy vs. Number of neighbors\n",
        "plt.plot(k, accuracy_ras)\n",
        "plt.xlabel(\"Number of neighbors\")\n",
        "plt.ylabel(\"Accuracy (%)\")\n",
        "plt.title(\"Accuracy vs. Number of neighbors (without worst smoothness, worst area, worst compactness and worst symmetry)\")"
      ],
      "execution_count": null,
      "outputs": [
        {
          "output_type": "stream",
          "text": [
            "1 95.2246835443038\n",
            "2 94.9746835443038\n",
            "3 96.23734177215188\n",
            "4 95.98417721518986\n",
            "5 95.73417721518986\n",
            "6 95.73417721518986\n",
            "7 96.49367088607596\n",
            "8 96.74683544303797\n",
            "9 96.49367088607596\n",
            "10 96.49367088607596\n",
            "11 96.49050632911391\n",
            "12 96.49050632911391\n",
            "13 96.49367088607596\n",
            "14 96.24050632911393\n",
            "15 96.24367088607595\n",
            "16 96.49367088607596\n",
            "17 95.99050632911393\n",
            "18 95.74050632911393\n",
            "19 95.2373417721519\n",
            "20 95.48734177215191\n",
            "21 95.2373417721519\n",
            "22 95.7373417721519\n",
            "23 94.98417721518987\n",
            "24 95.48734177215191\n",
            "25 94.98417721518987\n",
            "26 94.98417721518987\n",
            "27 94.98417721518987\n",
            "28 95.23417721518987\n",
            "29 94.47784810126582\n",
            "30 94.72784810126582\n",
            "31 94.47784810126582\n",
            "32 94.47784810126582\n",
            "33 94.47784810126582\n",
            "34 94.47784810126582\n",
            "35 94.22468354430379\n",
            "36 94.73101265822784\n",
            "37 94.47784810126582\n",
            "38 94.47784810126582\n",
            "39 94.22151898734177\n",
            "40 93.97151898734177\n",
            "41 93.96835443037975\n",
            "42 94.4746835443038\n",
            "43 94.47151898734177\n",
            "44 94.4746835443038\n",
            "45 94.47151898734177\n",
            "46 94.22151898734178\n",
            "47 94.22151898734178\n",
            "48 94.22151898734178\n",
            "49 94.22151898734178\n",
            "50 94.22151898734178\n",
            "51 93.97151898734177\n",
            "52 93.97151898734177\n",
            "53 93.47151898734178\n",
            "54 93.72151898734178\n",
            "55 93.21835443037976\n",
            "56 93.21835443037976\n",
            "57 93.21835443037976\n",
            "58 93.21835443037976\n",
            "59 92.96518987341773\n",
            "60 92.96518987341773\n",
            "61 92.96518987341773\n",
            "62 93.21835443037976\n",
            "63 92.96835443037975\n",
            "64 92.96835443037975\n",
            "65 92.46518987341773\n",
            "66 92.96835443037975\n",
            "67 92.46835443037973\n",
            "68 92.46835443037973\n",
            "69 91.96518987341771\n",
            "70 92.2151898734177\n",
            "71 91.9620253164557\n",
            "72 92.2151898734177\n",
            "73 91.96518987341771\n",
            "74 91.96518987341771\n",
            "75 91.71518987341773\n",
            "76 91.71518987341773\n",
            "77 91.71518987341773\n",
            "78 91.96518987341771\n",
            "79 91.71518987341773\n",
            "80 91.96518987341771\n",
            "81 91.71518987341773\n",
            "82 91.96518987341771\n",
            "83 91.46202531645571\n",
            "84 91.46202531645571\n",
            "85 91.2120253164557\n",
            "86 91.71518987341773\n",
            "87 91.2120253164557\n",
            "88 91.46518987341771\n",
            "89 91.46518987341771\n",
            "90 91.71518987341773\n",
            "91 91.96518987341771\n",
            "92 91.96518987341771\n",
            "93 91.96518987341771\n",
            "94 92.2151898734177\n",
            "95 91.45886075949366\n",
            "96 91.7120253164557\n",
            "97 91.46202531645571\n",
            "98 91.7120253164557\n",
            "99 90.95886075949366\n",
            "100 91.46202531645571\n",
            "The optimal k value is:  8 . The maximum accuracy is:  96.74683544303797 %.\n"
          ],
          "name": "stdout"
        },
        {
          "output_type": "execute_result",
          "data": {
            "text/plain": [
              "Text(0.5, 1.0, 'Accuracy vs. Number of neighbors (without worst smoothness, worst area, worst compactness and worst symmetry)')"
            ]
          },
          "metadata": {
            "tags": []
          },
          "execution_count": 229
        },
        {
          "output_type": "display_data",
          "data": {
            "image/png": "[encoded data removed]",
            "text/plain": [
              "<Figure size 432x288 with 1 Axes>"
            ]
          },
          "metadata": {
            "tags": [],
            "needs_background": "light"
          }
        }
      ]
    },
    {
      "cell_type": "code",
      "metadata": {
        "id": "6Q_9XLvPsvSN",
        "outputId": "3aa35b46-b8b9-485a-833c-cd2ad6f2d227",
        "colab": {
          "base_uri": "https://localhost:8080/",
          "height": 1000
        }
      },
      "source": [
        "#Drop texture error, compactness error, concavity error, concave points error\n",
        "scaled_X_train_tccc = np.delete(scaled_X_train, [11,15,16,17], axis=1)\n",
        "#print(scaled_X_train_tcc.shape)\n",
        "\n",
        "#Train\n",
        "acc_max_tccc= 0\n",
        "k_max_tccc = 0\n",
        "\n",
        " #for loop to sweep k from 1 to 100\n",
        "accuracy_tccc = np.zeros(100)\n",
        "k = np.arange(1,101,1)\n",
        "\n",
        "for i in range (0,100):\n",
        "  knn = neighbors.KNeighborsClassifier(n_neighbors=i+1)\n",
        "  knn.fit(scaled_X_train_tccc, y_train)\n",
        "  scores_tccc = cross_val_score(knn, scaled_X_train_tccc, y_train, cv=5)\n",
        "  accuracy_tccc[i] = scores_tccc.mean()*100\n",
        "  print(i+1, accuracy_tccc[i])\n",
        "  if accuracy_tccc[i] > acc_max_tccc:\n",
        "    acc_max_tccc = accuracy_tccc[i]\n",
        "    k_max_tccc = i+1\n",
        "\n",
        "#Print optimal k and maximum accuracy\n",
        "print(\"The optimal k value is: \", k_max_tccc,\".\", \"The maximum accuracy is: \", acc_max_tccc, \"%.\")\n",
        "\n",
        "#Plotting Accuracy vs. Number of neighbors\n",
        "plt.plot(k, accuracy_tccc)\n",
        "plt.xlabel(\"Number of neighbors\")\n",
        "plt.ylabel(\"Accuracy (%)\")\n",
        "plt.title(\"Accuracy vs. Number of neighbors (without worst smoothness, worst area, worst compactness and worst symmetry)\")"
      ],
      "execution_count": null,
      "outputs": [
        {
          "output_type": "stream",
          "text": [
            "1 95.48417721518987\n",
            "2 94.7215189873418\n",
            "3 96.7373417721519\n",
            "4 96.23734177215188\n",
            "5 96.24050632911393\n",
            "6 96.23734177215188\n",
            "7 96.49367088607596\n",
            "8 96.74683544303797\n",
            "9 96.74367088607593\n",
            "10 96.74367088607593\n",
            "11 96.49050632911391\n",
            "12 96.74367088607593\n",
            "13 96.24050632911393\n",
            "14 95.99050632911393\n",
            "15 95.7373417721519\n",
            "16 95.99050632911393\n",
            "17 95.98734177215191\n",
            "18 96.24050632911393\n",
            "19 95.98734177215191\n",
            "20 95.7373417721519\n",
            "21 95.48734177215191\n",
            "22 95.7373417721519\n",
            "23 95.48734177215191\n",
            "24 95.74050632911393\n",
            "25 95.2373417721519\n",
            "26 95.2373417721519\n",
            "27 95.23417721518987\n",
            "28 95.48734177215191\n",
            "29 95.23417721518987\n",
            "30 95.48734177215191\n",
            "31 95.23417721518987\n",
            "32 95.48734177215191\n",
            "33 95.48734177215191\n",
            "34 95.48734177215191\n",
            "35 95.7373417721519\n",
            "36 95.7373417721519\n",
            "37 95.7373417721519\n",
            "38 95.7373417721519\n",
            "39 95.48417721518987\n",
            "40 95.7373417721519\n",
            "41 95.23101265822784\n",
            "42 95.23101265822784\n",
            "43 94.97784810126582\n",
            "44 95.48417721518987\n",
            "45 94.97784810126582\n",
            "46 94.97784810126582\n",
            "47 94.72468354430379\n",
            "48 94.72468354430379\n",
            "49 94.47151898734177\n",
            "50 94.72468354430379\n",
            "51 93.97151898734177\n",
            "52 94.22468354430379\n",
            "53 93.72151898734178\n",
            "54 94.22151898734178\n",
            "55 93.46835443037975\n",
            "56 93.71835443037973\n",
            "57 93.21835443037972\n",
            "58 93.46835443037975\n",
            "59 93.21835443037972\n",
            "60 93.46835443037975\n",
            "61 93.46835443037975\n",
            "62 93.21835443037972\n",
            "63 93.21835443037972\n",
            "64 93.21835443037972\n",
            "65 92.96835443037975\n",
            "66 93.21835443037972\n",
            "67 93.46835443037975\n",
            "68 93.46835443037975\n",
            "69 92.71518987341771\n",
            "70 93.21835443037976\n",
            "71 92.71518987341771\n",
            "72 92.46518987341773\n",
            "73 92.20886075949366\n",
            "74 92.46202531645568\n",
            "75 92.21202531645571\n",
            "76 92.71518987341771\n",
            "77 92.46518987341773\n",
            "78 92.71518987341771\n",
            "79 92.21202531645571\n",
            "80 92.46202531645568\n",
            "81 91.95886075949367\n",
            "82 91.95886075949367\n",
            "83 91.45569620253164\n",
            "84 91.45569620253164\n",
            "85 90.95569620253163\n",
            "86 91.7120253164557\n",
            "87 90.95569620253163\n",
            "88 90.95569620253163\n",
            "89 90.70253164556961\n",
            "90 91.20569620253164\n",
            "91 90.70253164556961\n",
            "92 90.95253164556961\n",
            "93 90.70253164556961\n",
            "94 90.70253164556961\n",
            "95 90.70253164556961\n",
            "96 90.95569620253163\n",
            "97 90.95569620253163\n",
            "98 91.45569620253164\n",
            "99 90.70253164556962\n",
            "100 90.70253164556962\n",
            "The optimal k value is:  8 . The maximum accuracy is:  96.74683544303797 %.\n"
          ],
          "name": "stdout"
        },
        {
          "output_type": "execute_result",
          "data": {
            "text/plain": [
              "Text(0.5, 1.0, 'Accuracy vs. Number of neighbors (without worst smoothness, worst area, worst compactness and worst symmetry)')"
            ]
          },
          "metadata": {
            "tags": []
          },
          "execution_count": 230
        },
        {
          "output_type": "display_data",
          "data": {
            "image/png": "[encoded data removed]",
            "text/plain": [
              "<Figure size 432x288 with 1 Axes>"
            ]
          },
          "metadata": {
            "tags": [],
            "needs_background": "light"
          }
        }
      ]
    },
    {
      "cell_type": "code",
      "metadata": {
        "id": "3KOWJNgQtYjt",
        "outputId": "035b0f0d-faf0-455e-da8c-bbc055ef30d4",
        "colab": {
          "base_uri": "https://localhost:8080/",
          "height": 1000
        }
      },
      "source": [
        "#Drop texture error, compactness error, concavity error, fractal dimension error\n",
        "scaled_X_train_tccf = np.delete(scaled_X_train, [11,15,16,19], axis=1)\n",
        "#print(scaled_X_train_tcc.shape)\n",
        "\n",
        "#Train\n",
        "acc_max_tccf= 0\n",
        "k_max_tccf = 0\n",
        "\n",
        " #for loop to sweep k from 1 to 100\n",
        "accuracy_tccf = np.zeros(100)\n",
        "k = np.arange(1,101,1)\n",
        "\n",
        "for i in range (0,100):\n",
        "  knn = neighbors.KNeighborsClassifier(n_neighbors=i+1)\n",
        "  knn.fit(scaled_X_train_tccf, y_train)\n",
        "  scores_tccf = cross_val_score(knn, scaled_X_train_tccf, y_train, cv=5)\n",
        "  accuracy_tccf[i] = scores_tccf.mean()*100\n",
        "  print(i+1, accuracy_tccf[i])\n",
        "  if accuracy_tccf[i] > acc_max_tccf:\n",
        "    acc_max_tccf = accuracy_tccf[i]\n",
        "    k_max_tccf = i+1\n",
        "\n",
        "#Print optimal k and maximum accuracy\n",
        "print(\"The optimal k value is: \", k_max_tccf,\".\", \"The maximum accuracy is: \", acc_max_tccf, \"%.\")\n",
        "\n",
        "#Plotting Accuracy vs. Number of neighbors\n",
        "plt.plot(k, accuracy_tccf)\n",
        "plt.xlabel(\"Number of neighbors\")\n",
        "plt.ylabel(\"Accuracy (%)\")\n",
        "plt.title(\"Accuracy vs. Number of neighbors (without worst smoothness, worst area, worst compactness and worst symmetry)\")"
      ],
      "execution_count": null,
      "outputs": [
        {
          "output_type": "stream",
          "text": [
            "1 95.47468354430379\n",
            "2 94.46835443037976\n",
            "3 96.73417721518987\n",
            "4 96.4873417721519\n",
            "5 95.9873417721519\n",
            "6 95.73417721518986\n",
            "7 95.7373417721519\n",
            "8 95.99050632911393\n",
            "9 96.24050632911393\n",
            "10 96.74683544303798\n",
            "11 96.24050632911393\n",
            "12 96.24050632911393\n",
            "13 95.99050632911393\n",
            "14 96.24367088607595\n",
            "15 95.7373417721519\n",
            "16 95.99050632911393\n",
            "17 95.48417721518987\n",
            "18 95.99050632911393\n",
            "19 95.99050632911393\n",
            "20 95.99050632911393\n",
            "21 95.7373417721519\n",
            "22 95.7373417721519\n",
            "23 95.7373417721519\n",
            "24 95.99050632911393\n",
            "25 95.2373417721519\n",
            "26 95.48734177215191\n",
            "27 94.9873417721519\n",
            "28 95.48734177215191\n",
            "29 94.73417721518986\n",
            "30 95.2373417721519\n",
            "31 94.98417721518987\n",
            "32 95.2373417721519\n",
            "33 94.98417721518987\n",
            "34 95.2373417721519\n",
            "35 95.2373417721519\n",
            "36 95.2373417721519\n",
            "37 95.2373417721519\n",
            "38 95.2373417721519\n",
            "39 94.98417721518987\n",
            "40 94.98417721518987\n",
            "41 94.72784810126582\n",
            "42 95.23417721518987\n",
            "43 94.98101265822785\n",
            "44 94.98101265822785\n",
            "45 94.97784810126582\n",
            "46 94.72784810126582\n",
            "47 94.22151898734178\n",
            "48 94.22151898734178\n",
            "49 94.47151898734177\n",
            "50 94.22151898734178\n",
            "51 94.22151898734178\n",
            "52 94.22151898734178\n",
            "53 93.97151898734177\n",
            "54 93.97151898734177\n",
            "55 93.46835443037975\n",
            "56 93.46835443037975\n",
            "57 93.46835443037975\n",
            "58 93.46835443037975\n",
            "59 92.71518987341771\n",
            "60 93.21835443037976\n",
            "61 92.96518987341773\n",
            "62 92.96518987341773\n",
            "63 92.71518987341771\n",
            "64 92.71518987341771\n",
            "65 92.46518987341773\n",
            "66 92.71518987341771\n",
            "67 92.46518987341773\n",
            "68 92.9651898734177\n",
            "69 92.2151898734177\n",
            "70 92.2151898734177\n",
            "71 91.70886075949367\n",
            "72 91.9620253164557\n",
            "73 91.7120253164557\n",
            "74 91.9620253164557\n",
            "75 91.45886075949366\n",
            "76 91.7120253164557\n",
            "77 91.20569620253166\n",
            "78 91.45886075949366\n",
            "79 91.20569620253166\n",
            "80 91.7120253164557\n",
            "81 90.95569620253166\n",
            "82 90.95569620253166\n",
            "83 90.45253164556962\n",
            "84 90.70253164556962\n",
            "85 90.45253164556962\n",
            "86 90.95569620253166\n",
            "87 90.70569620253164\n",
            "88 90.70569620253164\n",
            "89 90.45253164556962\n",
            "90 90.45253164556962\n",
            "91 90.45253164556962\n",
            "92 90.70253164556962\n",
            "93 90.70253164556962\n",
            "94 90.95569620253166\n",
            "95 90.70253164556962\n",
            "96 91.20569620253164\n",
            "97 90.45569620253164\n",
            "98 90.70569620253164\n",
            "99 90.20569620253166\n",
            "100 90.20569620253166\n",
            "The optimal k value is:  10 . The maximum accuracy is:  96.74683544303798 %.\n"
          ],
          "name": "stdout"
        },
        {
          "output_type": "execute_result",
          "data": {
            "text/plain": [
              "Text(0.5, 1.0, 'Accuracy vs. Number of neighbors (without worst smoothness, worst area, worst compactness and worst symmetry)')"
            ]
          },
          "metadata": {
            "tags": []
          },
          "execution_count": 231
        },
        {
          "output_type": "display_data",
          "data": {
            "image/png": "[encoded data removed]",
            "text/plain": [
              "<Figure size 432x288 with 1 Axes>"
            ]
          },
          "metadata": {
            "tags": [],
            "needs_background": "light"
          }
        }
      ]
    },
    {
      "cell_type": "markdown",
      "metadata": {
        "id": "AZfqlDM3HrtN"
      },
      "source": [
        "\n",
        "2. Does standardization lead to better model performance? Is performance better or worst? Discuss. **[1]**"
      ]
    },
    {
      "cell_type": "markdown",
      "metadata": {
        "id": "tSYiWurqJw-F"
      },
      "source": [
        "*Looking at Table2 above, it is observed that standardization did lead to a better model performance. It is also observed that standardization reduced the effect that number of removed features has on the train accuracy. Previously in part2, we can see that as the number of features removed surpass 2, the accuracy decreases. Here, the accuracy when 4 features were removed is the same as that when 2 features were removed.*"
      ]
    },
    {
      "cell_type": "markdown",
      "metadata": {
        "id": "k7QjKjHn2TZR"
      },
      "source": [
        "## Part 4: Test Data [1 Mark]\n",
        "\n",
        "Now that you've created several models, pick your best one (highest accuracy) and apply it to the test dataset you had initially set aside. Discuss. **[1]**"
      ]
    },
    {
      "cell_type": "markdown",
      "metadata": {
        "id": "ijUJQ3eaKZpZ"
      },
      "source": [
        "*From results of Part 3, it is obvious that standardized data lead to a better performance. However, whether or not removing features did not lead to huge performance improvement. Therefore, standardized & non-reduced data was used here for testing.*"
      ]
    },
    {
      "cell_type": "code",
      "metadata": {
        "id": "acdJ7EijBYqB",
        "outputId": "d799fe66-b036-4904-d785-699d4d57bd8d",
        "colab": {
          "base_uri": "https://localhost:8080/",
          "height": 34
        }
      },
      "source": [
        " #Predicting using test dataset\n",
        " from sklearn.metrics import accuracy_score\n",
        "\n",
        " knn_sd = neighbors.KNeighborsClassifier(n_neighbors=10)\n",
        " knn_sd.fit(scaled_X_train, y_train)\n",
        " scores_pt4 = accuracy_score(y_test, knn_sd.predict(scaled_X_test))\n",
        " print (\"The test accuracy is: % 0.2f(+/- %0.2f)\" % (scores_pt4.mean()*100, scores_pt4.std()*2*100),\"%\" )"
      ],
      "execution_count": null,
      "outputs": [
        {
          "output_type": "stream",
          "text": [
            "The test accuracy is:  95.91(+/- 0.00) %\n"
          ],
          "name": "stdout"
        }
      ]
    },
    {
      "cell_type": "markdown",
      "metadata": {
        "id": "881jvX-Ky3Zk"
      },
      "source": [
        "## Part 5: New Dataset [4 Marks]\n",
        "Find an appropriate classification dataset online and train a KNN model to make predictions.\n",
        "\n",
        "*   Introduce your dataset. **[1]**\n",
        "*   Create a KNN classifier using the tools you've learned. **[2]**\n",
        "*   Present your results. **[1]**\n",
        "\n",
        "Hint: you can find various datasets here: https://www.kaggle.com/datasets and here: https://scikit-learn.org/stable/datasets/index.html#toy-datasets.\n",
        "\n",
        "To use a dataset in Colab, you can upload it in your Google drive and access it in Colab ([help here](https://medium.com/analytics-vidhya/how-to-fetch-kaggle-datasets-into-google-colab-ea682569851a)), or you can download the dataset on your local machine and upload it directly to Colab using the following script.\n",
        "\n",
        "```\n",
        "from google.colab import files\n",
        "uploaded = files.upload()\n",
        "```\n",
        "\n",
        "When submitting your project on Quercus, please make sure you are also uploading your dataset so we can fully run your notebook."
      ]
    },
    {
      "cell_type": "code",
      "metadata": {
        "id": "wSuPuEqOWWGf"
      },
      "source": [
        "#Import wine recognition dataset\n",
        "from sklearn.datasets import load_wine\n",
        "dataset2 = load_wine()\n",
        "#dataset2"
      ],
      "execution_count": null,
      "outputs": []
    },
    {
      "cell_type": "code",
      "metadata": {
        "id": "ex5e2bviF4z9",
        "outputId": "a8aa5ae3-349a-4c77-9f1b-b4fdcbf00536",
        "colab": {
          "base_uri": "https://localhost:8080/",
          "height": 439
        }
      },
      "source": [
        "#Putting the data into a dataframe\n",
        "\n",
        "df_wine = pd.DataFrame(data=dataset2['data'], columns=dataset2['feature_names'])\n",
        "target2_list = dataset2['target'].tolist()\n",
        "df_wine['target'] = target2_list\n",
        "df_wine"
      ],
      "execution_count": null,
      "outputs": [
        {
          "output_type": "execute_result",
          "data": {
            "text/html": [
              "<div>\n",
              "<style scoped>\n",
              "    .dataframe tbody tr th:only-of-type {\n",
              "        vertical-align: middle;\n",
              "    }\n",
              "\n",
              "    .dataframe tbody tr th {\n",
              "        vertical-align: top;\n",
              "    }\n",
              "\n",
              "    .dataframe thead th {\n",
              "        text-align: right;\n",
              "    }\n",
              "</style>\n",
              "<table border=\"1\" class=\"dataframe\">\n",
              "  <thead>\n",
              "    <tr style=\"text-align: right;\">\n",
              "      <th></th>\n",
              "      <th>alcohol</th>\n",
              "      <th>malic_acid</th>\n",
              "      <th>ash</th>\n",
              "      <th>alcalinity_of_ash</th>\n",
              "      <th>magnesium</th>\n",
              "      <th>total_phenols</th>\n",
              "      <th>flavanoids</th>\n",
              "      <th>nonflavanoid_phenols</th>\n",
              "      <th>proanthocyanins</th>\n",
              "      <th>color_intensity</th>\n",
              "      <th>hue</th>\n",
              "      <th>od280/od315_of_diluted_wines</th>\n",
              "      <th>proline</th>\n",
              "      <th>target</th>\n",
              "    </tr>\n",
              "  </thead>\n",
              "  <tbody>\n",
              "    <tr>\n",
              "      <th>0</th>\n",
              "      <td>14.23</td>\n",
              "      <td>1.71</td>\n",
              "      <td>2.43</td>\n",
              "      <td>15.6</td>\n",
              "      <td>127.0</td>\n",
              "      <td>2.80</td>\n",
              "      <td>3.06</td>\n",
              "      <td>0.28</td>\n",
              "      <td>2.29</td>\n",
              "      <td>5.64</td>\n",
              "      <td>1.04</td>\n",
              "      <td>3.92</td>\n",
              "      <td>1065.0</td>\n",
              "      <td>0</td>\n",
              "    </tr>\n",
              "    <tr>\n",
              "      <th>1</th>\n",
              "      <td>13.20</td>\n",
              "      <td>1.78</td>\n",
              "      <td>2.14</td>\n",
              "      <td>11.2</td>\n",
              "      <td>100.0</td>\n",
              "      <td>2.65</td>\n",
              "      <td>2.76</td>\n",
              "      <td>0.26</td>\n",
              "      <td>1.28</td>\n",
              "      <td>4.38</td>\n",
              "      <td>1.05</td>\n",
              "      <td>3.40</td>\n",
              "      <td>1050.0</td>\n",
              "      <td>0</td>\n",
              "    </tr>\n",
              "    <tr>\n",
              "      <th>2</th>\n",
              "      <td>13.16</td>\n",
              "      <td>2.36</td>\n",
              "      <td>2.67</td>\n",
              "      <td>18.6</td>\n",
              "      <td>101.0</td>\n",
              "      <td>2.80</td>\n",
              "      <td>3.24</td>\n",
              "      <td>0.30</td>\n",
              "      <td>2.81</td>\n",
              "      <td>5.68</td>\n",
              "      <td>1.03</td>\n",
              "      <td>3.17</td>\n",
              "      <td>1185.0</td>\n",
              "      <td>0</td>\n",
              "    </tr>\n",
              "    <tr>\n",
              "      <th>3</th>\n",
              "      <td>14.37</td>\n",
              "      <td>1.95</td>\n",
              "      <td>2.50</td>\n",
              "      <td>16.8</td>\n",
              "      <td>113.0</td>\n",
              "      <td>3.85</td>\n",
              "      <td>3.49</td>\n",
              "      <td>0.24</td>\n",
              "      <td>2.18</td>\n",
              "      <td>7.80</td>\n",
              "      <td>0.86</td>\n",
              "      <td>3.45</td>\n",
              "      <td>1480.0</td>\n",
              "      <td>0</td>\n",
              "    </tr>\n",
              "    <tr>\n",
              "      <th>4</th>\n",
              "      <td>13.24</td>\n",
              "      <td>2.59</td>\n",
              "      <td>2.87</td>\n",
              "      <td>21.0</td>\n",
              "      <td>118.0</td>\n",
              "      <td>2.80</td>\n",
              "      <td>2.69</td>\n",
              "      <td>0.39</td>\n",
              "      <td>1.82</td>\n",
              "      <td>4.32</td>\n",
              "      <td>1.04</td>\n",
              "      <td>2.93</td>\n",
              "      <td>735.0</td>\n",
              "      <td>0</td>\n",
              "    </tr>\n",
              "    <tr>\n",
              "      <th>...</th>\n",
              "      <td>...</td>\n",
              "      <td>...</td>\n",
              "      <td>...</td>\n",
              "      <td>...</td>\n",
              "      <td>...</td>\n",
              "      <td>...</td>\n",
              "      <td>...</td>\n",
              "      <td>...</td>\n",
              "      <td>...</td>\n",
              "      <td>...</td>\n",
              "      <td>...</td>\n",
              "      <td>...</td>\n",
              "      <td>...</td>\n",
              "      <td>...</td>\n",
              "    </tr>\n",
              "    <tr>\n",
              "      <th>173</th>\n",
              "      <td>13.71</td>\n",
              "      <td>5.65</td>\n",
              "      <td>2.45</td>\n",
              "      <td>20.5</td>\n",
              "      <td>95.0</td>\n",
              "      <td>1.68</td>\n",
              "      <td>0.61</td>\n",
              "      <td>0.52</td>\n",
              "      <td>1.06</td>\n",
              "      <td>7.70</td>\n",
              "      <td>0.64</td>\n",
              "      <td>1.74</td>\n",
              "      <td>740.0</td>\n",
              "      <td>2</td>\n",
              "    </tr>\n",
              "    <tr>\n",
              "      <th>174</th>\n",
              "      <td>13.40</td>\n",
              "      <td>3.91</td>\n",
              "      <td>2.48</td>\n",
              "      <td>23.0</td>\n",
              "      <td>102.0</td>\n",
              "      <td>1.80</td>\n",
              "      <td>0.75</td>\n",
              "      <td>0.43</td>\n",
              "      <td>1.41</td>\n",
              "      <td>7.30</td>\n",
              "      <td>0.70</td>\n",
              "      <td>1.56</td>\n",
              "      <td>750.0</td>\n",
              "      <td>2</td>\n",
              "    </tr>\n",
              "    <tr>\n",
              "      <th>175</th>\n",
              "      <td>13.27</td>\n",
              "      <td>4.28</td>\n",
              "      <td>2.26</td>\n",
              "      <td>20.0</td>\n",
              "      <td>120.0</td>\n",
              "      <td>1.59</td>\n",
              "      <td>0.69</td>\n",
              "      <td>0.43</td>\n",
              "      <td>1.35</td>\n",
              "      <td>10.20</td>\n",
              "      <td>0.59</td>\n",
              "      <td>1.56</td>\n",
              "      <td>835.0</td>\n",
              "      <td>2</td>\n",
              "    </tr>\n",
              "    <tr>\n",
              "      <th>176</th>\n",
              "      <td>13.17</td>\n",
              "      <td>2.59</td>\n",
              "      <td>2.37</td>\n",
              "      <td>20.0</td>\n",
              "      <td>120.0</td>\n",
              "      <td>1.65</td>\n",
              "      <td>0.68</td>\n",
              "      <td>0.53</td>\n",
              "      <td>1.46</td>\n",
              "      <td>9.30</td>\n",
              "      <td>0.60</td>\n",
              "      <td>1.62</td>\n",
              "      <td>840.0</td>\n",
              "      <td>2</td>\n",
              "    </tr>\n",
              "    <tr>\n",
              "      <th>177</th>\n",
              "      <td>14.13</td>\n",
              "      <td>4.10</td>\n",
              "      <td>2.74</td>\n",
              "      <td>24.5</td>\n",
              "      <td>96.0</td>\n",
              "      <td>2.05</td>\n",
              "      <td>0.76</td>\n",
              "      <td>0.56</td>\n",
              "      <td>1.35</td>\n",
              "      <td>9.20</td>\n",
              "      <td>0.61</td>\n",
              "      <td>1.60</td>\n",
              "      <td>560.0</td>\n",
              "      <td>2</td>\n",
              "    </tr>\n",
              "  </tbody>\n",
              "</table>\n",
              "<p>178 rows × 14 columns</p>\n",
              "</div>"
            ],
            "text/plain": [
              "     alcohol  malic_acid   ash  ...  od280/od315_of_diluted_wines  proline  target\n",
              "0      14.23        1.71  2.43  ...                          3.92   1065.0       0\n",
              "1      13.20        1.78  2.14  ...                          3.40   1050.0       0\n",
              "2      13.16        2.36  2.67  ...                          3.17   1185.0       0\n",
              "3      14.37        1.95  2.50  ...                          3.45   1480.0       0\n",
              "4      13.24        2.59  2.87  ...                          2.93    735.0       0\n",
              "..       ...         ...   ...  ...                           ...      ...     ...\n",
              "173    13.71        5.65  2.45  ...                          1.74    740.0       2\n",
              "174    13.40        3.91  2.48  ...                          1.56    750.0       2\n",
              "175    13.27        4.28  2.26  ...                          1.56    835.0       2\n",
              "176    13.17        2.59  2.37  ...                          1.62    840.0       2\n",
              "177    14.13        4.10  2.74  ...                          1.60    560.0       2\n",
              "\n",
              "[178 rows x 14 columns]"
            ]
          },
          "metadata": {
            "tags": []
          },
          "execution_count": 234
        }
      ]
    },
    {
      "cell_type": "code",
      "metadata": {
        "id": "ljtceYPRJRit"
      },
      "source": [
        "Xwine_train, Xwine_test, ywine_train, ywine_test = train_test_split(dataset2['data'], target2_list, test_size=0.3, random_state=0)"
      ],
      "execution_count": null,
      "outputs": []
    },
    {
      "cell_type": "code",
      "metadata": {
        "id": "VNBIGSlgNZfz",
        "outputId": "bfdf09d1-f3ea-4f1b-98e1-99a4c72885a1",
        "colab": {
          "base_uri": "https://localhost:8080/",
          "height": 1000
        }
      },
      "source": [
        "#Predict with non-standardized & non-reduced data\n",
        "acc_max_pt5 = 0\n",
        "k_max_pt5 = 0\n",
        "\n",
        "#for loop to sweep k from 1 to 99\n",
        "#expected n_neighbors <= n_samples, n_samples = 99 here\n",
        "\n",
        "accuracy_pt5 = np.zeros(99)\n",
        "k = np.arange(1,100,1)\n",
        "\n",
        "for i in range (0,99):\n",
        "  knn_pt5 = neighbors.KNeighborsClassifier(n_neighbors=i+1)\n",
        "  knn_pt5.fit(Xwine_train, ywine_train)\n",
        "  scores = cross_val_score(knn_pt5, Xwine_train, ywine_train, cv=5)\n",
        "  accuracy_pt5[i] = scores.mean()*100\n",
        "  print(i+1, accuracy_pt5[i])\n",
        "  if accuracy_pt5[i] > acc_max_pt5:\n",
        "    acc_max_pt5 = accuracy_pt5[i]\n",
        "    k_max_pt5 = i+1\n",
        "\n",
        "print(\"The optimal k value is: \", k_max_pt5,\".\", \"The maximum accuracy is: \", acc_max_pt5, \"%.\")\n",
        "\n",
        "#Plotting Accuracy vs. Number of neighbors\n",
        "plt.plot(k, accuracy_pt5)\n",
        "plt.xlabel(\"Number of neighbors\")\n",
        "plt.ylabel(\"Accuracy (%)\")\n",
        "plt.title(\"Accuracy vs. Number of neighbors\")\n"
      ],
      "execution_count": null,
      "outputs": [
        {
          "output_type": "stream",
          "text": [
            "1 74.9\n",
            "2 69.43333333333332\n",
            "3 69.3\n",
            "4 66.83333333333333\n",
            "5 62.83333333333334\n",
            "6 64.4\n",
            "7 64.43333333333334\n",
            "8 64.39999999999999\n",
            "9 66.83333333333333\n",
            "10 65.23333333333332\n",
            "11 62.8\n",
            "12 65.26666666666667\n",
            "13 66.03333333333332\n",
            "14 68.5\n",
            "15 68.46666666666667\n",
            "16 66.10000000000001\n",
            "17 63.63333333333333\n",
            "18 70.16666666666667\n",
            "19 69.33333333333333\n",
            "20 69.39999999999999\n",
            "21 69.39999999999999\n",
            "22 70.16666666666667\n",
            "23 71.0\n",
            "24 71.0\n",
            "25 70.16666666666667\n",
            "26 70.96666666666667\n",
            "27 70.96666666666667\n",
            "28 70.96666666666667\n",
            "29 70.16666666666667\n",
            "30 70.16666666666667\n",
            "31 70.16666666666667\n",
            "32 70.96666666666667\n",
            "33 71.76666666666667\n",
            "34 70.96666666666667\n",
            "35 70.96666666666667\n",
            "36 70.96666666666667\n",
            "37 70.96666666666667\n",
            "38 70.96666666666667\n",
            "39 71.76666666666667\n",
            "40 70.96666666666667\n",
            "41 70.16666666666667\n",
            "42 70.16666666666667\n",
            "43 70.16666666666667\n",
            "44 70.16666666666667\n",
            "45 70.16666666666667\n",
            "46 69.36666666666666\n",
            "47 70.13333333333333\n",
            "48 66.86666666666666\n",
            "49 67.7\n",
            "50 65.26666666666668\n",
            "51 65.26666666666668\n",
            "52 66.86666666666666\n",
            "53 69.33333333333334\n",
            "54 70.1\n",
            "55 70.13333333333333\n",
            "56 67.63333333333333\n",
            "57 67.63333333333333\n",
            "58 67.56666666666668\n",
            "59 67.6\n",
            "60 67.56666666666666\n",
            "61 66.76666666666667\n",
            "62 66.8\n",
            "63 66.8\n",
            "64 65.19999999999999\n",
            "65 66.8\n",
            "66 66.8\n",
            "67 66.8\n",
            "68 66.8\n",
            "69 66.8\n",
            "70 66.8\n",
            "71 66.8\n",
            "72 66.8\n",
            "73 67.6\n",
            "74 67.6\n",
            "75 66.8\n",
            "76 65.19999999999999\n",
            "77 65.99999999999999\n",
            "78 65.23333333333332\n",
            "79 65.23333333333332\n",
            "80 66.06666666666666\n",
            "81 65.23333333333332\n",
            "82 64.39999999999999\n",
            "83 65.23333333333332\n",
            "84 65.23333333333332\n",
            "85 65.23333333333332\n",
            "86 65.23333333333332\n",
            "87 64.43333333333334\n",
            "88 63.63333333333333\n",
            "89 64.43333333333334\n",
            "90 64.43333333333334\n",
            "91 64.43333333333334\n",
            "92 64.43333333333334\n",
            "93 39.5\n",
            "94 39.5\n",
            "95 39.5\n",
            "96 39.5\n",
            "97 39.5\n",
            "98 39.5\n",
            "99 39.5\n",
            "The optimal k value is:  1 . The maximum accuracy is:  74.9 %.\n"
          ],
          "name": "stdout"
        },
        {
          "output_type": "execute_result",
          "data": {
            "text/plain": [
              "Text(0.5, 1.0, 'Accuracy vs. Number of neighbors')"
            ]
          },
          "metadata": {
            "tags": []
          },
          "execution_count": 236
        },
        {
          "output_type": "display_data",
          "data": {
            "image/png": "[encoded data removed]",
            "text/plain": [
              "<Figure size 432x288 with 1 Axes>"
            ]
          },
          "metadata": {
            "tags": [],
            "needs_background": "light"
          }
        }
      ]
    },
    {
      "cell_type": "code",
      "metadata": {
        "id": "nyPdE-eh9W7y",
        "outputId": "73e59bb9-d934-41ce-acfb-befbaea6dfff",
        "colab": {
          "base_uri": "https://localhost:8080/",
          "height": 34
        }
      },
      "source": [
        " #Predicting using test dataset\n",
        "\n",
        " knn_pt5 = neighbors.KNeighborsClassifier(n_neighbors=1)\n",
        " knn_pt5.fit(Xwine_train, ywine_train)\n",
        " scores_pt5 = accuracy_score(ywine_test, knn_pt5.predict(Xwine_test))\n",
        " print (\"The test accuracy is: % 0.2f(+/- %0.2f)\" % (scores_pt5.mean()*100, scores_pt5.std()*2*100),\"%\" )"
      ],
      "execution_count": null,
      "outputs": [
        {
          "output_type": "stream",
          "text": [
            "The test accuracy is:  75.93(+/- 0.00) %\n"
          ],
          "name": "stdout"
        }
      ]
    },
    {
      "cell_type": "code",
      "metadata": {
        "id": "ZvBfcLCmT65a",
        "outputId": "e8e22743-44e0-4543-ab9a-e46c92167d7d",
        "colab": {
          "base_uri": "https://localhost:8080/",
          "height": 1000
        }
      },
      "source": [
        "#Predict with standardized & non-reduced data\n",
        "\n",
        "#Standardizing the entire training dataset\n",
        "scaled_Xwine_train = StandardScaler().fit_transform(Xwine_train)\n",
        "df_sd_winetrain = pd.DataFrame(data=scaled_Xwine_train, columns=dataset2['feature_names'])\n",
        "df_sd_winetrain['target']=ywine_train\n",
        "#df_sd_winetrain\n",
        "\n",
        "#Standardizing the entire testing dataset\n",
        "scaler = StandardScaler().fit(Xwine_train)\n",
        "scaled_Xwine_test = scaler.transform(Xwine_test)\n",
        "df_sd_winetest =  pd.DataFrame(scaled_Xwine_test, columns=dataset2['feature_names'])\n",
        "df_sd_winetest['target']=ywine_test\n",
        "#df_sd_winetest\n",
        "\n",
        "#for loop to sweep k from 1 to 99\n",
        "#expected n_neighbors <= n_samples, n_samples = 99 here\n",
        "\n",
        "acc_max_pt6 = 0\n",
        "k_max_pt6 = 0\n",
        "accuracy_pt6 = np.zeros(99)\n",
        "k = np.arange(1,100,1)\n",
        "\n",
        "for i in range (0,99):\n",
        "  knn_pt6 = neighbors.KNeighborsClassifier(n_neighbors=i+1)\n",
        "  knn_pt6.fit(scaled_Xwine_train, ywine_train)\n",
        "  scores = cross_val_score(knn_pt6, scaled_Xwine_train, ywine_train, cv=5)\n",
        "  accuracy_pt6[i] = scores.mean()*100\n",
        "  print(i+1, accuracy_pt6[i])\n",
        "  if accuracy_pt6[i] > acc_max_pt6:\n",
        "    acc_max_pt6 = accuracy_pt6[i]\n",
        "    k_max_pt6 = i+1\n",
        "\n",
        "print(\"The optimal k value is: \", k_max_pt6,\".\", \"The maximum accuracy is: \", acc_max_pt6, \"%.\")\n",
        "\n",
        "#Plotting Accuracy vs. Number of neighbors\n",
        "plt.plot(k, accuracy_pt6)\n",
        "plt.xlabel(\"Number of neighbors\")\n",
        "plt.ylabel(\"Accuracy (%)\")\n",
        "plt.title(\"Accuracy vs. Number of neighbors\")\n"
      ],
      "execution_count": null,
      "outputs": [
        {
          "output_type": "stream",
          "text": [
            "1 96.0\n",
            "2 93.6\n",
            "3 93.53333333333333\n",
            "4 94.36666666666666\n",
            "5 96.73333333333333\n",
            "6 95.13333333333334\n",
            "7 95.96666666666665\n",
            "8 95.16666666666666\n",
            "9 96.76666666666665\n",
            "10 95.16666666666666\n",
            "11 96.76666666666665\n",
            "12 94.33333333333334\n",
            "13 94.33333333333334\n",
            "14 94.33333333333334\n",
            "15 95.16666666666666\n",
            "16 95.96666666666665\n",
            "17 96.76666666666665\n",
            "18 97.6\n",
            "19 97.6\n",
            "20 97.6\n",
            "21 97.6\n",
            "22 97.6\n",
            "23 97.6\n",
            "24 97.6\n",
            "25 97.6\n",
            "26 96.0\n",
            "27 96.8\n",
            "28 95.16666666666666\n",
            "29 97.6\n",
            "30 96.8\n",
            "31 97.6\n",
            "32 97.6\n",
            "33 97.6\n",
            "34 96.76666666666665\n",
            "35 97.6\n",
            "36 97.6\n",
            "37 96.76666666666665\n",
            "38 96.0\n",
            "39 96.0\n",
            "40 96.0\n",
            "41 95.19999999999999\n",
            "42 95.19999999999999\n",
            "43 95.19999999999999\n",
            "44 95.19999999999999\n",
            "45 95.19999999999999\n",
            "46 96.0\n",
            "47 96.0\n",
            "48 95.19999999999999\n",
            "49 96.0\n",
            "50 94.36666666666666\n",
            "51 95.16666666666666\n",
            "52 94.36666666666666\n",
            "53 96.0\n",
            "54 96.0\n",
            "55 96.0\n",
            "56 96.0\n",
            "57 96.0\n",
            "58 95.19999999999999\n",
            "59 93.6\n",
            "60 93.6\n",
            "61 92.0\n",
            "62 90.39999999999999\n",
            "63 88.80000000000001\n",
            "64 87.20000000000002\n",
            "65 85.60000000000001\n",
            "66 82.4\n",
            "67 80.80000000000001\n",
            "68 79.16666666666667\n",
            "69 76.70000000000002\n",
            "70 72.66666666666669\n",
            "71 68.60000000000001\n",
            "72 66.13333333333333\n",
            "73 64.53333333333333\n",
            "74 62.133333333333326\n",
            "75 61.33333333333333\n",
            "76 58.93333333333334\n",
            "77 54.833333333333336\n",
            "78 51.6\n",
            "79 47.533333333333324\n",
            "80 45.099999999999994\n",
            "81 42.699999999999996\n",
            "82 41.900000000000006\n",
            "83 41.1\n",
            "84 41.1\n",
            "85 41.1\n",
            "86 41.1\n",
            "87 39.5\n",
            "88 39.5\n",
            "89 39.5\n",
            "90 39.5\n",
            "91 39.5\n",
            "92 39.5\n",
            "93 39.5\n",
            "94 39.5\n",
            "95 39.5\n",
            "96 39.5\n",
            "97 39.5\n",
            "98 39.5\n",
            "99 39.5\n",
            "The optimal k value is:  18 . The maximum accuracy is:  97.6 %.\n"
          ],
          "name": "stdout"
        },
        {
          "output_type": "execute_result",
          "data": {
            "text/plain": [
              "Text(0.5, 1.0, 'Accuracy vs. Number of neighbors')"
            ]
          },
          "metadata": {
            "tags": []
          },
          "execution_count": 238
        },
        {
          "output_type": "display_data",
          "data": {
            "image/png": "[encoded data removed]",
            "text/plain": [
              "<Figure size 432x288 with 1 Axes>"
            ]
          },
          "metadata": {
            "tags": [],
            "needs_background": "light"
          }
        }
      ]
    },
    {
      "cell_type": "code",
      "metadata": {
        "id": "BUJOoEjHXhwy",
        "outputId": "370dd489-008a-46fc-92ef-1099d317e412",
        "colab": {
          "base_uri": "https://localhost:8080/",
          "height": 34
        }
      },
      "source": [
        " #Predicting using test dataset\n",
        "\n",
        " knn_pt6 = neighbors.KNeighborsClassifier(n_neighbors=18)\n",
        " knn_pt6.fit(scaled_Xwine_train, ywine_train)\n",
        " scores_pt6 = accuracy_score(ywine_test, knn_pt6.predict(scaled_Xwine_test))\n",
        " print (\"The test accuracy is: % 0.2f(+/- %0.2f)\" % (scores_pt6.mean()*100, scores_pt6.std()*2*100),\"%\" )"
      ],
      "execution_count": null,
      "outputs": [
        {
          "output_type": "stream",
          "text": [
            "The test accuracy is:  100.00(+/- 0.00) %\n"
          ],
          "name": "stdout"
        }
      ]
    },
    {
      "cell_type": "markdown",
      "metadata": {
        "id": "wq18SFA_fEpp"
      },
      "source": [
        "*Since this model is able to predict the class of wine with a 100% test accuracy, it is considered to be the best model. Thus there is no need for reducing the data by dropping certain features. Moreover, since the original dataset is relatively small, there is no need for reducing the data further.*"
      ]
    }
  ]
}